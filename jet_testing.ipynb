{
 "cells": [
  {
   "cell_type": "code",
   "execution_count": 2,
   "metadata": {},
   "outputs": [],
   "source": [
    "import jet"
   ]
  },
  {
   "cell_type": "code",
   "execution_count": 3,
   "metadata": {},
   "outputs": [],
   "source": [
    "# The control qubit is defined as a 1-D vector with 2 elements.\n",
    "q0 = jet.Tensor([\"i\"], [2], [1, 0])\n",
    "\n",
    "# Note that the index of ``q1`` differs from ``q0``.\n",
    "q1 = jet.Tensor([\"j\"], [2], [1, 0])"
   ]
  },
  {
   "cell_type": "code",
   "execution_count": 4,
   "metadata": {},
   "outputs": [],
   "source": [
    "# Defining Hadamard gate\n",
    "inv_sqrt_2 = 2 ** -0.5\n",
    "# The Hadamard gate can be viewed as a rank-2 tensor of size 2 by 2\n",
    "H = jet.Tensor([\"i\", \"k\"], [2, 2], [inv_sqrt_2, inv_sqrt_2, inv_sqrt_2, -inv_sqrt_2])"
   ]
  },
  {
   "cell_type": "code",
   "execution_count": 5,
   "metadata": {},
   "outputs": [],
   "source": [
    "# Defining CNOT gate\n",
    "# We can view it as a rank-4 tensor of size 2 by 2 by 2 by 2\n",
    "# Two of the legs of this tensor represent inputs and \n",
    "# the other two legs represent outputs\n",
    "CNOT = jet.Tensor([\"k\", \"j\", \"m\", \"n\"], [2, 2, 2, 2])\n",
    "CNOT.set_value((0, 0, 0, 0), 1) # |00> -> |00>\n",
    "CNOT.set_value((0, 1, 0, 1), 1) # |01> -> |01>\n",
    "CNOT.set_value((1, 0, 1, 1), 1) # |10> -> |11>\n",
    "CNOT.set_value((1, 1, 1, 0), 1) # |11> -> |10>"
   ]
  },
  {
   "cell_type": "code",
   "execution_count": 6,
   "metadata": {},
   "outputs": [],
   "source": [
    "# Now we create the corresponding tensornetwork\n",
    "tn = jet.TensorNetwork()\n",
    "tn.add_tensor(q0)\n",
    "tn.add_tensor(q1)\n",
    "tn.add_tensor(H)\n",
    "tn.add_tensor(CNOT)\n",
    "result = tn.contract()"
   ]
  },
  {
   "cell_type": "code",
   "execution_count": 7,
   "metadata": {},
   "outputs": [
    {
     "name": "stdout",
     "output_type": "stream",
     "text": [
      "Amplitude |00> = (0.7071067811865476+0j)\n",
      "Amplitude |01> = 0j\n",
      "Amplitude |10> = 0j\n",
      "Amplitude |11> = (0.7071067811865476+0j)\n"
     ]
    }
   ],
   "source": [
    "print(\"Amplitude |00> =\", result.get_value([0, 0]))\n",
    "print(\"Amplitude |01> =\", result.get_value([0, 1]))\n",
    "print(\"Amplitude |10> =\", result.get_value([1, 0]))\n",
    "print(\"Amplitude |11> =\", result.get_value([1, 1]))"
   ]
  },
  {
   "cell_type": "code",
   "execution_count": 9,
   "metadata": {},
   "outputs": [
    {
     "name": "stdout",
     "output_type": "stream",
     "text": [
      "<0|sigma_z|0> = (1+0j)\n"
     ]
    }
   ],
   "source": [
    "bra = jet.Tensor(indices=[\"i\"], shape=[2], data=[1,0])\n",
    "ket = jet.Tensor(bra);\n",
    "pauli_z_data = [1, 0, 0, -1]\n",
    "indices = [\"i\", \"j\"]\n",
    "size = [2,2]\n",
    "Z = jet.Tensor(indices, size, pauli_z_data)\n",
    "\n",
    "op_ket = Z.contract_with_tensor(ket);\n",
    "bra_op_ket = bra.contract_with_tensor(op_ket);\n",
    "\n",
    "print(\"<0|sigma_z|0> =\", bra_op_ket.scalar)"
   ]
  },
  {
   "cell_type": "code",
   "execution_count": 11,
   "metadata": {},
   "outputs": [],
   "source": [
    "tn = jet.TensorNetwork()\n",
    "tn.add_tensor(q0)\n",
    "tn.add_tensor(q1)\n",
    "tn.add_tensor(H)\n",
    "tn.add_tensor(CNOT)\n",
    "path_info = jet.PathInfo(tn, [(0, 2), (1, 3), (4, 5)])"
   ]
  },
  {
   "cell_type": "code",
   "execution_count": 12,
   "metadata": {},
   "outputs": [
    {
     "data": {
      "text/plain": [
       "0"
      ]
     },
     "execution_count": 12,
     "metadata": {},
     "output_type": "execute_result"
    }
   ],
   "source": [
    "tbc = jet.TaskBasedContractor()\n",
    "tbc.add_contraction_tasks(tn, path_info)"
   ]
  },
  {
   "cell_type": "code",
   "execution_count": 15,
   "metadata": {},
   "outputs": [
    {
     "name": "stdout",
     "output_type": "stream",
     "text": [
      "Size = 4\n",
      "Indices = {m  n}\n",
      "Data = {(0.707107,0)  (0,0)  (0,0)  (0.707107,0)}\n"
     ]
    }
   ],
   "source": [
    "tbc.contract()\n",
    "results = tbc.results\n",
    "result = results[0]\n",
    "print(result)"
   ]
  },
  {
   "cell_type": "code",
   "execution_count": null,
   "metadata": {},
   "outputs": [],
   "source": []
  }
 ],
 "metadata": {
  "interpreter": {
   "hash": "d4046caf55f50b54fa7ffdea1ad98452a8feb9cf62ccba5e4c76fe622e38f8fa"
  },
  "kernelspec": {
   "display_name": "Python 3.9.7 ('topo_quant')",
   "language": "python",
   "name": "python3"
  },
  "language_info": {
   "codemirror_mode": {
    "name": "ipython",
    "version": 3
   },
   "file_extension": ".py",
   "mimetype": "text/x-python",
   "name": "python",
   "nbconvert_exporter": "python",
   "pygments_lexer": "ipython3",
   "version": "3.9.7"
  },
  "orig_nbformat": 4
 },
 "nbformat": 4,
 "nbformat_minor": 2
}
