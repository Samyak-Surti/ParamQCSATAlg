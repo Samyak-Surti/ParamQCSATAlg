{
 "cells": [
  {
   "cell_type": "code",
   "execution_count": 1,
   "metadata": {},
   "outputs": [],
   "source": [
    "# Import necessary packages\n",
    "\n",
    "import stim\n",
    "import numpy as np\n",
    "import copy\n",
    "from typing import List, Tuple"
   ]
  },
  {
   "cell_type": "code",
   "execution_count": null,
   "metadata": {},
   "outputs": [],
   "source": [
    "class PauliSummand:\n",
    "    \"\"\" \n",
    "    Representation for single element of 'PauliSum'\n",
    "    \"\"\"\n",
    "    pass \n",
    "\n",
    "class PauliSumBasis:\n",
    "    \"\"\" \n",
    "    Representation for t + 1 (t is number of T-gates) basis elements of 'PauliSum'\n",
    "    \"\"\"\n",
    "    pass \n",
    "\n",
    "class PauliSum:\n",
    "    \"\"\" \n",
    "    Representation for sum of Paulis as result of contracting QCSAT instance\n",
    "    \"\"\"\n",
    "    pass \n"
   ]
  }
 ],
 "metadata": {
  "kernelspec": {
   "display_name": "Python 3.9.7 ('topo_quant')",
   "language": "python",
   "name": "python3"
  },
  "language_info": {
   "codemirror_mode": {
    "name": "ipython",
    "version": 3
   },
   "file_extension": ".py",
   "mimetype": "text/x-python",
   "name": "python",
   "nbconvert_exporter": "python",
   "pygments_lexer": "ipython3",
   "version": "3.9.7"
  },
  "orig_nbformat": 4,
  "vscode": {
   "interpreter": {
    "hash": "d4046caf55f50b54fa7ffdea1ad98452a8feb9cf62ccba5e4c76fe622e38f8fa"
   }
  }
 },
 "nbformat": 4,
 "nbformat_minor": 2
}
