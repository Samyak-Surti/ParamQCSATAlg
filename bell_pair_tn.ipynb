{
 "cells": [
  {
   "cell_type": "code",
   "execution_count": 2,
   "metadata": {},
   "outputs": [],
   "source": [
    "import tensornetwork as tn\n",
    "import numpy as np \n",
    "\n",
    "state = tn.Node(np.array([1.0 + 0.0j, 0.0 + 0.0j]))"
   ]
  },
  {
   "cell_type": "code",
   "execution_count": 3,
   "metadata": {},
   "outputs": [],
   "source": [
    "qubit = state[0]\n",
    "# This node represents the Hadamard gate we wish to perform\n",
    "# on this qubit.\n",
    "hadamard = tn.Node(np.array([[1, 1], [1, -1]])) / np.sqrt(2)\n",
    "tn.connect(qubit, hadamard[0]) # Equal to qubit ^ hadamard[0]\n",
    "# The \"output edge\" of the operation represents the qubit after\n",
    "#  applying the operation.\n",
    "qubit = hadamard[1]"
   ]
  },
  {
   "cell_type": "code",
   "execution_count": 4,
   "metadata": {},
   "outputs": [
    {
     "name": "stdout",
     "output_type": "stream",
     "text": [
      "[0.70710678+0.j 0.70710678+0.j]\n"
     ]
    }
   ],
   "source": [
    "# Contraction is how you actually \"apply\" the gate.\n",
    "state = state @ hadamard\n",
    "print(state.tensor) # array([0.707+0.j, 0.707+0.j])"
   ]
  },
  {
   "cell_type": "code",
   "execution_count": 5,
   "metadata": {},
   "outputs": [],
   "source": [
    "def apply_gate(qubit_edges, gate, operating_qubits):\n",
    "  op = tn.Node(gate)\n",
    "  for i, bit in enumerate(operating_qubits):\n",
    "    tn.connect(qubit_edges[bit], op[i])\n",
    "    qubit_edges[bit] = op[i + len(operating_qubits)]"
   ]
  },
  {
   "cell_type": "code",
   "execution_count": 6,
   "metadata": {},
   "outputs": [
    {
     "name": "stdout",
     "output_type": "stream",
     "text": [
      "[[0.70710678+0.j 0.        +0.j]\n",
      " [0.        +0.j 0.70710678+0.j]]\n"
     ]
    }
   ],
   "source": [
    "# These are just numpy arrays of the operators.\n",
    "H = np.array([[1, 1], [1, -1]], dtype=complex) / np.sqrt(2)\n",
    "CNOT = np.zeros((2, 2, 2, 2), dtype=complex)\n",
    "CNOT[0][0][0][0] = 1\n",
    "CNOT[0][1][0][1] = 1\n",
    "CNOT[1][0][1][1] = 1\n",
    "CNOT[1][1][1][0] = 1\n",
    "all_nodes = []\n",
    "# NodeCollection allows us to store all of the nodes created under this context.\n",
    "with tn.NodeCollection(all_nodes):\n",
    "  state_nodes = [\n",
    "      tn.Node(np.array([1.0 + 0.0j, 0.0 + 0.0j],)) for _ in range(2)\n",
    "  ]\n",
    "  qubits = [node[0] for node in state_nodes]\n",
    "  apply_gate(qubits, H, [0])\n",
    "  apply_gate(qubits, CNOT, [0, 1])\n",
    "# We can contract the entire tensornetwork easily with a contractor algorithm\n",
    "result = tn.contractors.optimal(\n",
    "    all_nodes, output_edge_order=qubits)\n",
    "print(result.tensor) # array([0.707+0.j, 0.0+0.j], [0.0+0.j, 0.707+0.j])"
   ]
  },
  {
   "cell_type": "code",
   "execution_count": null,
   "metadata": {},
   "outputs": [],
   "source": []
  }
 ],
 "metadata": {
  "interpreter": {
   "hash": "aee8b7b246df8f9039afb4144a1f6fd8d2ca17a180786b69acc140d282b71a49"
  },
  "kernelspec": {
   "display_name": "Python 3.9.7 64-bit",
   "language": "python",
   "name": "python3"
  },
  "language_info": {
   "codemirror_mode": {
    "name": "ipython",
    "version": 3
   },
   "file_extension": ".py",
   "mimetype": "text/x-python",
   "name": "python",
   "nbconvert_exporter": "python",
   "pygments_lexer": "ipython3",
   "version": "3.9.7"
  },
  "orig_nbformat": 4
 },
 "nbformat": 4,
 "nbformat_minor": 2
}
