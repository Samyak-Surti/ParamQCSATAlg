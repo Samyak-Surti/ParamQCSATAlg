{
 "cells": [
  {
   "cell_type": "markdown",
   "metadata": {},
   "source": [
    "### 1 Non-Clifford + Projection onto state $\\ket{1}$\n",
    "- Consider circuit $U$ with one non-Clifford gate ($T$ rotation gate) and a projection onto the one state on only one qubit ($\\ket{1}\\bra{1}$)\n",
    "- Overarching Goal: Compute largest eigenvalue of $\\bra{0^m} U^{\\dagger} \\ket{1}\\bra{1} U \\ket{0^m} \\implies$ finding smallest eigenvalue of $\\bra{0^m} U^{\\dagger} Z U \\ket{0^m}$"
   ]
  },
  {
   "cell_type": "markdown",
   "metadata": {},
   "source": [
    "#### Adding T-gate Conjugation Functionality\n",
    "* One of the drawbacks of using stim is that it exclusively makes use of stabilizer circuits\n",
    "* Therefore, need to come up with a way to incorporate the behavior of conjugating Paulis by a T-gate\n",
    "* Options:\n",
    "    * Define a number of shots for random cliffords. Iterating over this number of shots, randomly, instead of placing a clifford gate, simulate action of T-gate on \n",
    "    current Pauli (I believe this will be easier to implement)\n",
    "        * Define number of shots to sample cliffords\n",
    "        * Start with pre-determined number of $T$-gates (Start with 1 for now)\n",
    "        * For one of the shots (choose random integer from 0 to num_shots - 1) apply T gate as opposed to random clifford\n",
    "        * Have list of tableaus where each element of list will be a summand.\n",
    "        * Apply current stabilizer tableau to each element of list\n",
    "        * In the end, there should be a list of tableaus on which we can apply each to a z-gate on the first qubit (via conjugation) to get out Sum of Paulis\n",
    "    * Try to download stim locally and define a T-gate so that it is symbolically represented as a sum of stabilizer tableaus.\n",
    "        * It can be written in the following way:\n",
    "        $$T = \\bigg(\\cos \\bigg(\\frac{\\pi}{8}\\bigg) - \\sin \\bigg(\\frac{\\pi}{8}\\bigg)\\bigg) \\mathbb{I} + e^{-i\\pi/4} \\sqrt{2}sin \\bigg(\\frac{\\pi}{8}\\bigg) S$$"
   ]
  },
  {
   "cell_type": "code",
   "execution_count": 1,
   "metadata": {},
   "outputs": [],
   "source": [
    "import stim\n",
    "import numpy as np"
   ]
  },
  {
   "cell_type": "code",
   "execution_count": null,
   "metadata": {},
   "outputs": [],
   "source": [
    "class PauliSum:\n",
    "    def __init__(self):\n",
    "        pass\n",
    "\n",
    "    def __repr__(self):\n",
    "        pass \n",
    "\n",
    "    def __str__(self):\n",
    "        pass\n",
    "\n",
    "    def compute_eig(self):\n",
    "        pass \n",
    "\n",
    "    \n"
   ]
  },
  {
   "cell_type": "code",
   "execution_count": 2,
   "metadata": {},
   "outputs": [],
   "source": [
    "num_wit_qubits = 2 # variable 'n' in paper\n",
    "# For now, what the witness qubits are initialized to be doesn't matter (I THINK)\n",
    "# as we are trying to minimize Val, given some optimal input states.\n",
    "wit_qubits = np.zeros(num_wit_qubits, dtype=complex)\n",
    "\n",
    "num_anc_qubits = 0 # variable 'm' in paper\n",
    "anc_qubits = np.zeros(num_anc_qubits, dtype=complex)\n",
    "\n",
    "num_t_gate = 1 # variable 't' in paper\n",
    "cp_num_t_gate = num_t_gate\n",
    "\n",
    "num_meas_qubits = 1 # variable 'k' in paper\n",
    "total_qubits = num_wit_qubits + num_anc_qubits"
   ]
  },
  {
   "cell_type": "code",
   "execution_count": null,
   "metadata": {},
   "outputs": [],
   "source": []
  }
 ],
 "metadata": {
  "kernelspec": {
   "display_name": "Python 3.9.7 ('topo_quant')",
   "language": "python",
   "name": "python3"
  },
  "language_info": {
   "codemirror_mode": {
    "name": "ipython",
    "version": 3
   },
   "file_extension": ".py",
   "mimetype": "text/x-python",
   "name": "python",
   "nbconvert_exporter": "python",
   "pygments_lexer": "ipython3",
   "version": "3.9.7"
  },
  "orig_nbformat": 4,
  "vscode": {
   "interpreter": {
    "hash": "d4046caf55f50b54fa7ffdea1ad98452a8feb9cf62ccba5e4c76fe622e38f8fa"
   }
  }
 },
 "nbformat": 4,
 "nbformat_minor": 2
}
