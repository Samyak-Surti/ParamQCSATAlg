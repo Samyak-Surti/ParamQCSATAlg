{
 "cells": [
  {
   "cell_type": "code",
   "execution_count": 1,
   "metadata": {},
   "outputs": [],
   "source": [
    "import stim \n",
    "import numpy as np"
   ]
  },
  {
   "cell_type": "markdown",
   "metadata": {},
   "source": [
    "### Interactive Simulation - Stim's Tableau Simulator Test\n",
    "* We first begin by testing the functionality and usability of Stim's tableau simulator"
   ]
  },
  {
   "cell_type": "code",
   "execution_count": 3,
   "metadata": {},
   "outputs": [
    {
     "name": "stdout",
     "output_type": "stream",
     "text": [
      "+-xz-xz-xz-\n",
      "| ++ ++ ++\n",
      "| ZX _Z _Z\n",
      "| _X XZ __\n",
      "| _X __ XZ\n"
     ]
    }
   ],
   "source": [
    "s = stim.TableauSimulator()\n",
    "\n",
    "# Create a GHZ state.\n",
    "s.h(0)\n",
    "s.cnot(0,1)\n",
    "s.cnot(0,2)\n",
    "\n",
    "# Look at the simulator state re-inverted to be forwards:\n",
    "t = s.current_inverse_tableau()\n",
    "print(t ** -1)"
   ]
  },
  {
   "cell_type": "code",
   "execution_count": 4,
   "metadata": {},
   "outputs": [
    {
     "name": "stdout",
     "output_type": "stream",
     "text": [
      "[True, True, True]\n"
     ]
    }
   ],
   "source": [
    "# Measure the GHZ state.\n",
    "print(s.measure_many(0,1,2))"
   ]
  },
  {
   "cell_type": "markdown",
   "metadata": {},
   "source": [
    "### Independent Exploration\n",
    "* Showcase of some other functionality Stim offers"
   ]
  },
  {
   "cell_type": "code",
   "execution_count": 5,
   "metadata": {},
   "outputs": [],
   "source": [
    "xx = stim.PauliString(\"XX\")\n",
    "yy = stim.PauliString(\"YY\")\n",
    "assert xx * yy == -stim.PauliString(\"ZZ\")"
   ]
  },
  {
   "cell_type": "code",
   "execution_count": 8,
   "metadata": {},
   "outputs": [
    {
     "name": "stdout",
     "output_type": "stream",
     "text": [
      "+-xz-\n",
      "| ++\n",
      "| YZ\n"
     ]
    }
   ],
   "source": [
    "s = stim.Tableau.from_named_gate(\"S\")\n",
    "print(s)"
   ]
  },
  {
   "cell_type": "code",
   "execution_count": 9,
   "metadata": {},
   "outputs": [],
   "source": [
    "s_dag = stim.Tableau.from_named_gate(\"S_DAG\")\n",
    "assert s**-1 == s_dag\n",
    "assert s**1000000003 == s_dag"
   ]
  },
  {
   "cell_type": "code",
   "execution_count": 11,
   "metadata": {},
   "outputs": [
    {
     "name": "stdout",
     "output_type": "stream",
     "text": [
      "+-xz-xz-xz-xz-xz-\n",
      "| ++ ++ ++ ++ ++\n",
      "| XZ __ __ __ __\n",
      "| __ XZ __ __ __\n",
      "| __ __ XZ __ __\n",
      "| __ __ __ XZ __\n",
      "| __ __ __ __ XZ\n"
     ]
    }
   ],
   "source": [
    "cnot = stim.Tableau.from_named_gate(\"CNOT\")\n",
    "cz = stim.Tableau.from_named_gate(\"CZ\")\n",
    "h = stim.Tableau.from_named_gate(\"H\")\n",
    "t = stim.Tableau(5)\n",
    "t.append(cnot, [1, 4])\n",
    "t.append(h, [4])\n",
    "t.append(cz, [1, 4])\n",
    "t.prepend(h, [4])\n",
    "print(t)\n",
    "assert t == stim.Tableau(5)"
   ]
  },
  {
   "cell_type": "code",
   "execution_count": null,
   "metadata": {},
   "outputs": [],
   "source": []
  }
 ],
 "metadata": {
  "kernelspec": {
   "display_name": "Python 3.9.7 ('qc_env')",
   "language": "python",
   "name": "python3"
  },
  "language_info": {
   "codemirror_mode": {
    "name": "ipython",
    "version": 3
   },
   "file_extension": ".py",
   "mimetype": "text/x-python",
   "name": "python",
   "nbconvert_exporter": "python",
   "pygments_lexer": "ipython3",
   "version": "3.9.7"
  },
  "orig_nbformat": 4,
  "vscode": {
   "interpreter": {
    "hash": "5a2db16169323f9c61c6ed4d885397ad0494f2e790734ab97aaeab1bbd202ff7"
   }
  }
 },
 "nbformat": 4,
 "nbformat_minor": 2
}
