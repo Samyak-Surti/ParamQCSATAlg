{
 "cells": [
  {
   "cell_type": "markdown",
   "metadata": {},
   "source": [
    "### Algorithm to Approximate Stabilizer Rank\n",
    "* https://arxiv.org/abs/1711.07848 - On the Geometry of Stabilizer States\n",
    "* $\\underline{\\text{First Approach - Approximating an arbitrary quantum state with a single stabilizer state (Section 4.1)}}$\n",
    "    * Outline of approach:\n",
    "        * Begin with arbitrary state - \n",
    "        $$\\ket{\\psi} = \\sum_{i = 1}^{k} \\alpha_i \\ket{s_i}$$\n",
    "        * Start at stabilizer state $\\ket{s_m}$ such that it has largest $|\\alpha_i|$\n",
    "        * At each iteration, evaluate $N(\\ket{s_m})$ (nearest neighbors of $\\ket{s_m}$) by computing \n",
    "        $$\\max_{\\ket{\\phi} \\in N(\\ket{s_m})} |\\bra{\\phi}\\ket{\\psi}|$$\n",
    "* $\\underline{\\text{Second Approach - }}$"
   ]
  },
  {
   "cell_type": "code",
   "execution_count": 16,
   "metadata": {},
   "outputs": [],
   "source": [
    "import stim\n",
    "import numpy as np\n",
    "from typing import List, Tuple"
   ]
  },
  {
   "cell_type": "code",
   "execution_count": 21,
   "metadata": {},
   "outputs": [
    {
     "name": "stdout",
     "output_type": "stream",
     "text": [
      "[(0.7071067811865475-0j)ZX] + [(-0.7071067811865475+0j)ZZ]\n",
      "The minimum eigenvalue for this pauli sum is: (-0.9999999999999996+0j)\n",
      "The associated eigenvector is: [ 0.92387953+0.j -0.38268343-0.j -0.        -0.j -0.        -0.j]\n"
     ]
    }
   ],
   "source": [
    "%run -i NonCliff_1Meas.ipynb "
   ]
  },
  {
   "cell_type": "code",
   "execution_count": 25,
   "metadata": {},
   "outputs": [
    {
     "data": {
      "text/plain": [
       "0"
      ]
     },
     "execution_count": 25,
     "metadata": {},
     "output_type": "execute_result"
    }
   ],
   "source": [
    "np.argmax(np.abs(min_eigvec))"
   ]
  },
  {
   "cell_type": "code",
   "execution_count": null,
   "metadata": {},
   "outputs": [],
   "source": [
    "def state_max_coeff(eig_vec: np.array) -> np.array:\n",
    "    \"\"\" \n",
    "    Finds the constituent stabilizer state (computational basis state) with \n",
    "    largest coefficient amplitude\n",
    "\n",
    "    Parameters:\n",
    "    -----------\n",
    "    eig_vec - Eigenvector \n",
    "\n",
    "    Returns:\n",
    "    --------\n",
    "    State with largest coefficient amplitude\n",
    "    \"\"\"\n",
    "    ret_vec = np.zeros((len(eig_vec),), dtype=complex)\n",
    "    max_pos = np.argmax(np.abs(eig_vec))\n",
    "    ret_vec[max_pos] = 1+0j\n",
    "    return ret_vec\n",
    "\n",
    "def find_nearest_neighbors(stab_state: np.array) -> List:\n",
    "    \"\"\" \n",
    "    Find and return all nearest neighbor states to chosen stabilizer state 'stab_state'\n",
    "\n",
    "    Parameters:\n",
    "    -----------\n",
    "    stab_state - Stabilizer state for which we wish to find nearest neighbors\n",
    "\n",
    "    Returns:\n",
    "    --------\n",
    "    List of nearest neighbor states\n",
    "    \"\"\"\n",
    "\n",
    "def optimal_nearest_neighbor(eig_vec: np.array) -> np.array:\n",
    "    \"\"\" \n",
    "    Find nearest neighbor stabilizer state with maximum inner product\n",
    "\n",
    "    Parameters:\n",
    "    -----------\n",
    "    eig_vec - Eigenvector we are trying to approximate\n",
    "\n",
    "    Returns:\n",
    "    --------\n",
    "    Single stabilizer state that is closest to 'eig_vec'\n",
    "    \"\"\"\n",
    "    "
   ]
  },
  {
   "cell_type": "markdown",
   "metadata": {},
   "source": []
  }
 ],
 "metadata": {
  "kernelspec": {
   "display_name": "Python 3.9.7 ('qc_env')",
   "language": "python",
   "name": "python3"
  },
  "language_info": {
   "codemirror_mode": {
    "name": "ipython",
    "version": 3
   },
   "file_extension": ".py",
   "mimetype": "text/x-python",
   "name": "python",
   "nbconvert_exporter": "python",
   "pygments_lexer": "ipython3",
   "version": "3.9.7"
  },
  "orig_nbformat": 4,
  "vscode": {
   "interpreter": {
    "hash": "5a2db16169323f9c61c6ed4d885397ad0494f2e790734ab97aaeab1bbd202ff7"
   }
  }
 },
 "nbformat": 4,
 "nbformat_minor": 2
}
