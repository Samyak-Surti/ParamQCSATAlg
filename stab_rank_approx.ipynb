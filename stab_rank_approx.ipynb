{
 "cells": [
  {
   "cell_type": "markdown",
   "metadata": {},
   "source": [
    "### Algorithm to Approximate Stabilizer Rank\n",
    "* https://arxiv.org/abs/1711.07848 - On the Geometry of Stabilizer States\n",
    "* $\\underline{\\text{First Approach - Approximating an arbitrary quantum state with a single stabilizer state (Section 4.1)}}$\n",
    "    * Outline of approach:\n",
    "        * Begin with arbitrary state - \n",
    "        $$\\ket{\\psi} = \\sum_{i = 1}^{k} \\alpha_i \\ket{s_i}$$\n",
    "        * Start at stabilizer state $\\ket{s_m}$ such that it has largest $|\\alpha_i|$\n",
    "        * At each iteration, evaluate $N(\\ket{s_m})$ (nearest neighbors of $\\ket{s_m}$) by computing \n",
    "        $$\\max_{\\ket{\\phi} \\in N(\\ket{s_m})} |\\bra{\\phi}\\ket{\\psi}|$$\n",
    "* $\\underline{\\text{Second Approach - Approximating arbitrary states with superpositions of stabilizer states (Section 4.2)}}$\n",
    "    * "
   ]
  },
  {
   "cell_type": "code",
   "execution_count": 238,
   "metadata": {},
   "outputs": [],
   "source": [
    "import stim\n",
    "import numpy as np\n",
    "from typing import List, Tuple"
   ]
  },
  {
   "cell_type": "code",
   "execution_count": 266,
   "metadata": {},
   "outputs": [
    {
     "name": "stdout",
     "output_type": "stream",
     "text": [
      "[(-0.7071067811865475+0j)YY] + [(0.7071067811865475-0j)YZ]\n",
      "The minimum eigenvalue for this pauli sum is: (0.9999999999999994+0j)\n",
      "The associated eigenvector is: [ 0.70710678+0.j  -0.        -0.j  -0.        +0.5j  0.5       -0.j ]\n"
     ]
    }
   ],
   "source": [
    "%run -i NonCliff_1Meas.ipynb "
   ]
  },
  {
   "cell_type": "code",
   "execution_count": 271,
   "metadata": {},
   "outputs": [],
   "source": [
    "def get_orthogonal_vecs(used_neighbors: np.array, neighbor_list: List) -> List:\n",
    "    \"\"\" \n",
    "    Finds the set of vectors neighboring vectors that are orthogonal to \n",
    "    vectors that have already been used as optimal neighbors\n",
    "\n",
    "    Parameters:\n",
    "    -----------\n",
    "    used_neighbors - List of previous optimal choice of nearest neighbors\n",
    "    neighbor_list - List of nearest neighbors\n",
    "\n",
    "    Returns:\n",
    "    --------\n",
    "    List of possible options for next optimal neighbor\n",
    "    \"\"\"\n",
    "    option_list = []\n",
    "    if (used_neighbors == []):\n",
    "        option_list = neighbor_list \n",
    "    else:\n",
    "        option_list = [neighbor for neighbor in neighbor_list for used in used_neighbors if (np.abs(np.vdot(used, neighbor)) == 0)]\n",
    "    return option_list\n",
    "\n",
    "def state_max_coeff(eig_vec: np.array, basis_vecs: List) -> int:\n",
    "    \"\"\" \n",
    "    Finds the constituent stabilizer state (computational basis state) with \n",
    "    largest coefficient amplitude\n",
    "\n",
    "    Parameters:\n",
    "    -----------\n",
    "    eig_vec - Eigenvector \n",
    "    basis_vecs - List of basis vectors\n",
    "\n",
    "    Returns:\n",
    "    --------\n",
    "    Number corresponding to basis vector with largest coefficient amplitude\n",
    "    \"\"\"\n",
    "    max_pos = np.argmax(np.abs(eig_vec))\n",
    "    return max_pos\n",
    "\n",
    "def comp_base_vecs(num_qubits: int) -> List:\n",
    "    \"\"\"\n",
    "    Return all computational basis vectors for a given number of qubits\n",
    "\n",
    "    Parameters:\n",
    "    -----------\n",
    "    num_qubits - Number of qubits\n",
    "\n",
    "    Returns:\n",
    "    --------\n",
    "    Basis vectors in list\n",
    "    \"\"\"\n",
    "    basis_vecs = []\n",
    "    for i in range(2**num_qubits):\n",
    "        start_vec = np.zeros((2**num_qubits,), dtype=complex)\n",
    "        start_vec[i] = 1+0j\n",
    "        basis_vecs.append(start_vec)\n",
    "    \n",
    "    return basis_vecs\n",
    "\n",
    "def find_nearest_neighbors(stab_state: np.array, basis_vecs: List) -> List:\n",
    "    \"\"\" \n",
    "    Find and return all nearest neighbor states to chosen stabilizer state 'stab_state'\n",
    "\n",
    "    Parameters:\n",
    "    -----------\n",
    "    stab_state - Stabilizer state for which we wish to find nearest neighbors\n",
    "    basis_vecs - Computational Basis vectors\n",
    "\n",
    "    Returns:\n",
    "    --------\n",
    "    List of nearest neighbor states\n",
    "    \"\"\"\n",
    "    phases = [1, -1, 1j, -1j]\n",
    "    norm_factor = np.sqrt(2)\n",
    "    nearest_neighbors = []\n",
    "    for p in phases:\n",
    "        for vec in basis_vecs:\n",
    "            if (np.array_equal(stab_state, vec)):\n",
    "                continue\n",
    "            else:\n",
    "                neighbor_state = np.add(stab_state, p * vec)/norm_factor \n",
    "                nearest_neighbors.append(neighbor_state)\n",
    "    \n",
    "    return nearest_neighbors\n",
    "\n",
    "def optimal_nearest_neighbor(eig_vec: np.array, nearest_neighbors: List, chosen_neighbors: List) -> np.array:\n",
    "    \"\"\" \n",
    "    Find nearest neighbor stabilizer state with maximum inner product\n",
    "\n",
    "    Parameters:\n",
    "    -----------\n",
    "    eig_vec - Eigenvector we are trying to approximate\n",
    "\n",
    "    Returns:\n",
    "    --------\n",
    "    Single stabilizer state that is closest to 'eig_vec'\n",
    "    \"\"\"\n",
    "    neighbor_options = get_orthogonal_vecs(chosen_neighbors, nearest_neighbors)\n",
    "    return nearest_neighbors[np.argmax([np.abs(np.vdot(eig_vec, neighbor)) for neighbor in neighbor_options])]\n",
    "    "
   ]
  },
  {
   "cell_type": "code",
   "execution_count": 273,
   "metadata": {},
   "outputs": [
    {
     "name": "stdout",
     "output_type": "stream",
     "text": [
      "[0.70710678+0.j 0.        +0.j 0.        +0.j 0.70710678+0.j]\n",
      "0.8535533905932736\n"
     ]
    }
   ],
   "source": [
    "fin_stab_approx = np.zeros((2**total_qubits,), dtype=complex)\n",
    "min_eigvec_cp = min_eigvec.copy()\n",
    "basis_vecs = comp_base_vecs(total_qubits)\n",
    "stab_state = basis_vecs[state_max_coeff(min_eigvec, basis_vecs)]\n",
    "neighbor_list = find_nearest_neighbors(stab_state, basis_vecs)\n",
    "optimal_neighbor = optimal_nearest_neighbor(min_eigvec, neighbor_list, [])\n",
    "print(optimal_neighbor)\n",
    "print(np.abs(np.vdot(optimal_neighbor, min_eigvec)))\n",
    "\n"
   ]
  },
  {
   "cell_type": "code",
   "execution_count": 274,
   "metadata": {},
   "outputs": [],
   "source": [
    "def stab_rank_approx_one(num_qubits: int, eig_vec: np.array)  -> int:\n",
    "    \"\"\" \n",
    "    Approximate the stabilizer rank (using the first approach)\n",
    "\n",
    "    Parameters:\n",
    "    -----------\n",
    "    num_qubits - Number of qubits\n",
    "    eig_vec - Eigenvector for which we'd like to evaluate stabilizer rank\n",
    "\n",
    "    Returns:\n",
    "    --------\n",
    "    Approximate stabilizer rank for eigenvector\n",
    "    \"\"\"\n",
    "    approx_stab_rank = 0\n",
    "    basis_vecs = comp_base_vecs(num_qubits) # Basis vectors given number of qubits\n",
    "    used_neighbors = []\n",
    "    init_state = eig_vec.copy() # Make a copy of the original eigenvector\n",
    "    final_stab_approx = np.zeros((2**num_qubits,), dtype=complex) # Keep track of the final approximation\n",
    "    for _ in range(2**num_qubits):\n",
    "        print(\"The eigenvector currently looks like: \" + str(eig_vec))\n",
    "\n",
    "        max_coeff = state_max_coeff(eig_vec, basis_vecs)\n",
    "        #used_basis_vecs.append(max_coeff)\n",
    "        stab_state = basis_vecs[max_coeff] # Figure out which stabilizer state to find neighbors for first\n",
    "        neighbors = find_nearest_neighbors(stab_state, basis_vecs) # Find all nearest neighbors of 'stab_state'\n",
    "        optimal_neighbor = optimal_nearest_neighbor(eig_vec, neighbors, used_neighbors) # Find optimal nearest neighbor of 'stab_state'\n",
    "        used_neighbors.append(optimal_neighbor)\n",
    "        print(\"The optimal neighbor for the current state is: \" + str(optimal_neighbor))\n",
    "\n",
    "        # Subtract optimal neighbor component from eigenvector\n",
    "        # Then normalize state\n",
    "        eig_vec = np.subtract(eig_vec, optimal_neighbor)\n",
    "        eig_vec = eig_vec/np.linalg.norm(eig_vec)\n",
    "\n",
    "        # Add to optimal neighbor component to 'final_stab_approx'\n",
    "        # Then normalize state \n",
    "        final_stab_approx = np.add(final_stab_approx, optimal_neighbor)\n",
    "        final_stab_approx = final_stab_approx/np.linalg.norm(final_stab_approx)\n",
    "        print(\"The approximated stabilizer state so far is: \" + str(final_stab_approx))\n",
    "\n",
    "        # Check to see how inner product between 'final_stab_approx' and \n",
    "        # 'eig_vec' progresses \n",
    "        print(\"The inner product between approximation and actual is: \" + str(np.abs(np.vdot(final_stab_approx, init_state))))\n",
    "        print(\"\\n\")\n",
    "        approx_stab_rank += 1\n",
    "\n",
    "    return approx_stab_rank"
   ]
  },
  {
   "cell_type": "code",
   "execution_count": null,
   "metadata": {},
   "outputs": [],
   "source": [
    "def stab_rank_approx_two(num_qubits: int, eig_vec: np.array)  -> int:\n",
    "    \"\"\" \n",
    "    Approximate the stabilizer rank (2nd attempt)\n",
    "\n",
    "    Parameters:\n",
    "    -----------\n",
    "    num_qubits - Number of qubits\n",
    "    eig_vec - Eigenvector for which we'd like to evaluate stabilizer rank\n",
    "\n",
    "    Returns:\n",
    "    --------\n",
    "    Approximate stabilizer rank for eigenvector\n",
    "    \"\"\"\n",
    "    approx_stab_rank = 0\n",
    "    basis_vecs = comp_base_vecs(num_qubits) # Basis vectors given number of qubits\n",
    "    used_neighbors = []\n",
    "    init_state = eig_vec.copy() # Make a copy of the original eigenvector\n",
    "    final_stab_approx = np.zeros((2**num_qubits,), dtype=complex) # Keep track of the final approximation\n",
    "    for _ in range(2**num_qubits):\n",
    "        print(\"The eigenvector currently looks like: \" + str(eig_vec))\n",
    "\n",
    "        # Find basis state with maximum coefficient\n",
    "        max_coeff = state_max_coeff(eig_vec, basis_vecs)\n",
    "        stab_state = basis_vecs[max_coeff]\n",
    "\n",
    "        # Compute neighbors for 'stab_state' and retrieve optimal neighbor\n",
    "        neighbors = find_nearest_neighbors(stab_state, basis_vecs)\n",
    "        optimal_neighbor = optimal_nearest_neighbor()\n",
    "    return approx_stab_rank"
   ]
  },
  {
   "cell_type": "code",
   "execution_count": 270,
   "metadata": {},
   "outputs": [
    {
     "name": "stdout",
     "output_type": "stream",
     "text": [
      "The altered eigenvector looks like: [ 0.70710678+0.j  -0.        -0.j  -0.        +0.5j  0.5       -0.j ]\n",
      "The optimal neighbor for the current state is: [0.70710678+0.j 0.        +0.j 0.        +0.j 0.70710678+0.j]\n",
      "The approximated stabilizer state so far is: [0.70710678+0.j 0.        +0.j 0.        +0.j 0.70710678+0.j]\n",
      "The inner product between approximation and actual is: 0.8535533905932737\n",
      "\n",
      "\n",
      "The altered eigenvector looks like: [-2.05142466e-16+0.j         -0.00000000e+00+0.j\n",
      "  0.00000000e+00+0.92387953j -3.82683432e-01+0.j        ]\n",
      "The optimal neighbor for the current state is: [0.70710678+0.j 0.        +0.j 0.70710678+0.j 0.        +0.j]\n",
      "The approximated stabilizer state so far is: [0.81649658+0.j 0.        +0.j 0.40824829+0.j 0.40824829+0.j]\n",
      "The inner product between approximation and actual is: 0.807693584883638\n",
      "\n",
      "\n",
      "The altered eigenvector looks like: [-0.5       +0.j          0.        +0.j         -0.5       +0.65328148j\n",
      " -0.27059805+0.j        ]\n",
      "The optimal neighbor for the current state is: [0.70710678+0.j 0.        +0.j 0.70710678+0.j 0.        +0.j]\n",
      "The approximated stabilizer state so far is: [0.78867513+0.j 0.        +0.j 0.57735027+0.j 0.21132487+0.j]\n",
      "The inner product between approximation and actual is: 0.7234315774002364\n",
      "\n",
      "\n",
      "The altered eigenvector looks like: [-0.65328148+0.j          0.        +0.j         -0.65328148+0.35355339j\n",
      " -0.14644661+0.j        ]\n",
      "The optimal neighbor for the current state is: [0.70710678+0.j 0.        +0.j 0.70710678+0.j 0.        +0.j]\n",
      "The approximated stabilizer state so far is: [0.75434448+0.j 0.        +0.j 0.64777029+0.j 0.10657419+0.j]\n",
      "The inner product between approximation and actual is: 0.6701535605112436\n",
      "\n",
      "\n"
     ]
    }
   ],
   "source": [
    "approx_stab_rank = stab_rank_approx_one(total_qubits, min_eigvec)"
   ]
  },
  {
   "cell_type": "markdown",
   "metadata": {},
   "source": [
    "* Based on the above results, testing for various eigenvectors for Pauli Sums, we find that this algorithm gets its best approximation in the first iteration\n",
    "* Past one iteration, the approximations move too far away from the true eigenvector"
   ]
  },
  {
   "cell_type": "markdown",
   "metadata": {},
   "source": []
  }
 ],
 "metadata": {
  "kernelspec": {
   "display_name": "Python 3.9.7 ('qc_env')",
   "language": "python",
   "name": "python3"
  },
  "language_info": {
   "codemirror_mode": {
    "name": "ipython",
    "version": 3
   },
   "file_extension": ".py",
   "mimetype": "text/x-python",
   "name": "python",
   "nbconvert_exporter": "python",
   "pygments_lexer": "ipython3",
   "version": "3.9.7"
  },
  "orig_nbformat": 4,
  "vscode": {
   "interpreter": {
    "hash": "5a2db16169323f9c61c6ed4d885397ad0494f2e790734ab97aaeab1bbd202ff7"
   }
  }
 },
 "nbformat": 4,
 "nbformat_minor": 2
}
