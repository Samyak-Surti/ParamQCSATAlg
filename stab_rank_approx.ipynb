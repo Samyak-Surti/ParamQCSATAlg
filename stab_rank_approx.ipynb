{
 "cells": [
  {
   "cell_type": "markdown",
   "metadata": {},
   "source": [
    "### Algorithm to Approximate Stabilizer Rank\n",
    "* Input: Linear combination of stabilizer states\n",
    "$$\\ket{\\Psi} = \\sum_{j=1}^N c_j\\ket{\\psi_j}$$\n",
    "* Output: Following Pair\n",
    "    * (i) List of canonical stabilizer matrices\n",
    "    $$M = \\{\\mathcal{M}_1, \\mathcal{M}_2, ..., \\mathcal{M}_N\\}$$\n",
    "    * (ii) List of coefficients \n",
    "    $$C = \\{\\mathcal{c}_1, \\mathcal{c}_2, ..., \\mathcal{c}_N\\}$$\n",
    "* Procedure: https://arxiv.org/abs/1711.07848 - On the Geometry of Stabilizer States - Section 5.3"
   ]
  },
  {
   "cell_type": "markdown",
   "metadata": {},
   "source": []
  }
 ],
 "metadata": {
  "kernelspec": {
   "display_name": "Python 3.9.7 ('qc_env')",
   "language": "python",
   "name": "python3"
  },
  "language_info": {
   "name": "python",
   "version": "3.9.7"
  },
  "orig_nbformat": 4,
  "vscode": {
   "interpreter": {
    "hash": "5a2db16169323f9c61c6ed4d885397ad0494f2e790734ab97aaeab1bbd202ff7"
   }
  }
 },
 "nbformat": 4,
 "nbformat_minor": 2
}
