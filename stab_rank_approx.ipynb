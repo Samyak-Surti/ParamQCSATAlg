{
 "cells": [
  {
   "cell_type": "markdown",
   "metadata": {},
   "source": [
    "### Algorithm to Approximate Stabilizer Rank\n",
    "* https://arxiv.org/abs/1711.07848 - On the Geometry of Stabilizer States\n",
    "* $\\underline{\\text{First Approach - Approximating an arbitrary quantum state with a single stabilizer state (Section 4.1)}}$\n",
    "    * Outline of approach:\n",
    "        * Begin with arbitrary state - \n",
    "        $$\\ket{\\psi} = \\sum_{i = 1}^{k} \\alpha_i \\ket{s_i}$$\n",
    "        * Start at stabilizer state $\\ket{s_m}$ such that it has largest $|\\alpha_i|$\n",
    "        * At each iteration, evaluate $N(\\ket{s_m})$ (nearest neighbors of $\\ket{s_m}$) by computing \n",
    "        $$\\max_{\\ket{\\phi} \\in N(\\ket{s_m})} |\\bra{\\phi}\\ket{\\psi}|$$"
   ]
  },
  {
   "cell_type": "markdown",
   "metadata": {},
   "source": []
  }
 ],
 "metadata": {
  "kernelspec": {
   "display_name": "Python 3.9.7 ('topo_quant')",
   "language": "python",
   "name": "python3"
  },
  "language_info": {
   "name": "python",
   "version": "3.9.7"
  },
  "orig_nbformat": 4,
  "vscode": {
   "interpreter": {
    "hash": "d4046caf55f50b54fa7ffdea1ad98452a8feb9cf62ccba5e4c76fe622e38f8fa"
   }
  }
 },
 "nbformat": 4,
 "nbformat_minor": 2
}
