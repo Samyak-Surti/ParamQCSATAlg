{
 "cells": [
  {
   "cell_type": "markdown",
   "metadata": {},
   "source": [
    "### Algorithm to Approximate Stabilizer Rank\n",
    "* https://arxiv.org/abs/1711.07848 - On the Geometry of Stabilizer States\n",
    "* $\\underline{\\text{First Approach - Approximating an arbitrary quantum state with a single stabilizer state (Section 4.1)}}$\n",
    "    * Outline of approach:\n",
    "        * Begin with arbitrary state - \n",
    "        $$\\ket{\\psi} = \\sum_{i = 1}^{k} \\alpha_i \\ket{s_i}$$\n",
    "        * Start at stabilizer state $\\ket{s_m}$ such that it has largest $|\\alpha_i|$\n",
    "        * At each iteration, evaluate $N(\\ket{s_m})$ (nearest neighbors of $\\ket{s_m}$) by computing \n",
    "        $$\\max_{\\ket{\\phi} \\in N(\\ket{s_m})} |\\bra{\\phi}\\ket{\\psi}|$$\n",
    "* $\\underline{\\text{Second Approach - }}$"
   ]
  },
  {
   "cell_type": "code",
   "execution_count": 2,
   "metadata": {},
   "outputs": [],
   "source": [
    "import stim\n",
    "import numpy as np\n",
    "from typing import List, Tuple"
   ]
  },
  {
   "cell_type": "code",
   "execution_count": 74,
   "metadata": {},
   "outputs": [
    {
     "name": "stdout",
     "output_type": "stream",
     "text": [
      "[(-0.7071067811865475+0j)YY] + [(-0.7071067811865475+0j)YZ]\n",
      "The minimum eigenvalue for this pauli sum is: (0.9999999999999994+0j)\n",
      "The associated eigenvector is: [ 0.70710678+0.j  -0.        -0.j  -0.        -0.5j  0.5       -0.j ]\n"
     ]
    }
   ],
   "source": [
    "%run -i NonCliff_1Meas.ipynb "
   ]
  },
  {
   "cell_type": "code",
   "execution_count": 75,
   "metadata": {},
   "outputs": [],
   "source": [
    "def state_max_coeff(eig_vec: np.array) -> np.array:\n",
    "    \"\"\" \n",
    "    Finds the constituent stabilizer state (computational basis state) with \n",
    "    largest coefficient amplitude\n",
    "\n",
    "    Parameters:\n",
    "    -----------\n",
    "    eig_vec - Eigenvector \n",
    "\n",
    "    Returns:\n",
    "    --------\n",
    "    State with largest coefficient amplitude\n",
    "    \"\"\"\n",
    "    ret_vec = np.zeros((len(eig_vec),), dtype=complex)\n",
    "    max_pos = np.argmax(np.abs(eig_vec))\n",
    "    ret_vec[max_pos] = 1+0j\n",
    "    return ret_vec\n",
    "\n",
    "def comp_base_vecs(num_qubits: int) -> List:\n",
    "    \"\"\"\n",
    "    Return all computational basis vectors for a given number of qubits\n",
    "\n",
    "    Parameters:\n",
    "    -----------\n",
    "    num_qubits - Number of qubits\n",
    "\n",
    "    Returns:\n",
    "    --------\n",
    "    Basis vectors in list\n",
    "    \"\"\"\n",
    "    basis_vecs = []\n",
    "    for i in range(2**num_qubits):\n",
    "        start_vec = np.zeros((2**num_qubits,), dtype=complex)\n",
    "        start_vec[i] = 1+0j\n",
    "        basis_vecs.append(start_vec)\n",
    "    \n",
    "    return basis_vecs\n",
    "\n",
    "def find_nearest_neighbors(stab_state: np.array, basis_vecs: List) -> List:\n",
    "    \"\"\" \n",
    "    Find and return all nearest neighbor states to chosen stabilizer state 'stab_state'\n",
    "\n",
    "    Parameters:\n",
    "    -----------\n",
    "    stab_state - Stabilizer state for which we wish to find nearest neighbors\n",
    "    basis_vecs - Computational Basis vectors\n",
    "\n",
    "    Returns:\n",
    "    --------\n",
    "    List of nearest neighbor states\n",
    "    \"\"\"\n",
    "    phases = [1, -1, 1j, -1j]\n",
    "    norm_factor = np.sqrt(2)\n",
    "    nearest_neighbors = []\n",
    "    for p in phases:\n",
    "        for vec in basis_vecs:\n",
    "            if (np.array_equal(stab_state, vec)):\n",
    "                continue\n",
    "            else:\n",
    "                neighbor_state = np.add(stab_state, p * vec)/norm_factor \n",
    "                nearest_neighbors.append(neighbor_state)\n",
    "    \n",
    "    return nearest_neighbors\n",
    "\n",
    "def optimal_nearest_neighbor(eig_vec: np.array, nearest_neighbors: List) -> np.array:\n",
    "    \"\"\" \n",
    "    Find nearest neighbor stabilizer state with maximum inner product\n",
    "\n",
    "    Parameters:\n",
    "    -----------\n",
    "    eig_vec - Eigenvector we are trying to approximate\n",
    "\n",
    "    Returns:\n",
    "    --------\n",
    "    Single stabilizer state that is closest to 'eig_vec'\n",
    "    \"\"\"\n",
    "    return nearest_neighbors[np.argmax([np.abs(np.vdot(eig_vec, neighbor)) for neighbor in nearest_neighbors])]\n",
    "    "
   ]
  },
  {
   "cell_type": "code",
   "execution_count": 76,
   "metadata": {},
   "outputs": [
    {
     "data": {
      "text/plain": [
       "0.7071067811865475"
      ]
     },
     "execution_count": 76,
     "metadata": {},
     "output_type": "execute_result"
    }
   ],
   "source": [
    "stab_state = state_max_coeff(min_eigvec)\n",
    "basis_vecs = comp_base_vecs(total_qubits)\n",
    "neighbor_list = find_nearest_neighbors(stab_state, basis_vecs)\n",
    "optimal_neighbor = optimal_nearest_neighbor(min_eigvec, neighbor_list)\n",
    "np.abs(np.vdot(optimal_neighbor, stab_state))"
   ]
  },
  {
   "cell_type": "code",
   "execution_count": 91,
   "metadata": {},
   "outputs": [],
   "source": [
    "def stab_rank_approx_one(num_qubits: int, eig_vec: np.array)  -> int:\n",
    "    \"\"\" \n",
    "    Approximate the stabilizer rank (using the first approach)\n",
    "\n",
    "    Parameters:\n",
    "    -----------\n",
    "    num_qubits - Number of qubits\n",
    "    eig_vec - Eigenvector for which we'd like to evaluate stabilizer rank\n",
    "\n",
    "    Returns:\n",
    "    --------\n",
    "    Approximate stabilizer rank for eigenvector\n",
    "    \"\"\"\n",
    "    approx_stab_rank = 0\n",
    "    basis_vecs = comp_base_vecs(num_qubits)\n",
    "    curr_state = np.copy(eig_vec)\n",
    "    final_stab_state = np.zeros((2**num_qubits,), dtype=complex)\n",
    "    for _ in range(2**num_qubits):\n",
    "        \n",
    "\n",
    "    return approx_stab_rank"
   ]
  },
  {
   "cell_type": "code",
   "execution_count": 92,
   "metadata": {},
   "outputs": [
    {
     "name": "stdout",
     "output_type": "stream",
     "text": [
      "The current state is: [ 0.70710678+0.j  -0.        -0.j  -0.        -0.5j  0.5       -0.j ]\n",
      "The inner product of the optimal nearest neighbor and current state is: 0.8535533905932736\n",
      "The current state is: [-2.05142466e-16+0.j          0.00000000e+00+0.j\n",
      " -0.00000000e+00-0.92387953j -3.82683432e-01+0.j        ]\n",
      "The inner product of the optimal nearest neighbor and current state is: 0.8535533905932736\n",
      "The current state is: [-1.45057629e-16+0.j          0.00000000e+00+0.j\n",
      " -5.00000000e-01-0.65328148j -2.70598050e-01+0.5j       ]\n",
      "The inner product of the optimal nearest neighbor and current state is: 0.8535533905932736\n",
      "The current state is: [-7.85046229e-17+0.j          0.00000000e+00+0.j\n",
      " -6.53281482e-01-0.35355339j -1.46446609e-01+0.65328148j]\n",
      "The inner product of the optimal nearest neighbor and current state is: 0.8535533905932736\n"
     ]
    }
   ],
   "source": [
    "approx_stab_rank = stab_rank_approx_one(total_qubits, min_eigvec)"
   ]
  },
  {
   "cell_type": "code",
   "execution_count": null,
   "metadata": {},
   "outputs": [],
   "source": []
  }
 ],
 "metadata": {
  "kernelspec": {
   "display_name": "Python 3.9.7 ('topo_quant')",
   "language": "python",
   "name": "python3"
  },
  "language_info": {
   "codemirror_mode": {
    "name": "ipython",
    "version": 3
   },
   "file_extension": ".py",
   "mimetype": "text/x-python",
   "name": "python",
   "nbconvert_exporter": "python",
   "pygments_lexer": "ipython3",
   "version": "3.9.7"
  },
  "orig_nbformat": 4,
  "vscode": {
   "interpreter": {
    "hash": "d4046caf55f50b54fa7ffdea1ad98452a8feb9cf62ccba5e4c76fe622e38f8fa"
   }
  }
 },
 "nbformat": 4,
 "nbformat_minor": 2
}
