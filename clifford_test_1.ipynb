{
 "cells": [
  {
   "cell_type": "code",
   "execution_count": 2,
   "metadata": {},
   "outputs": [],
   "source": [
    "import jet\n",
    "import numpy as np"
   ]
  },
  {
   "cell_type": "code",
   "execution_count": 3,
   "metadata": {},
   "outputs": [],
   "source": [
    "# Defining Hadamard gate\n",
    "inv_sqrt_2 = 2 ** -0.5\n",
    "# The Hadamard gate can be viewed as a rank-2 tensor of size 2 by 2\n",
    "H = jet.Tensor([\"i\", \"k\"], [2, 2], [inv_sqrt_2, inv_sqrt_2, inv_sqrt_2, -inv_sqrt_2])"
   ]
  },
  {
   "cell_type": "code",
   "execution_count": 4,
   "metadata": {},
   "outputs": [],
   "source": [
    "# Defining CNOT gate\n",
    "# We can view it as a rank-4 tensor of size 2 by 2 by 2 by 2\n",
    "# Two of the legs of this tensor represent inputs and \n",
    "# the other two legs represent outputs\n",
    "CNOT = jet.Tensor([\"k\", \"j\", \"l\", \"m\"], [2, 2, 2, 2])\n",
    "CNOT.set_value((0, 0, 0, 0), 1) # |00> -> |00>\n",
    "CNOT.set_value((0, 1, 0, 1), 1) # |01> -> |01>\n",
    "CNOT.set_value((1, 0, 1, 1), 1) # |10> -> |11>\n",
    "CNOT.set_value((1, 1, 1, 0), 1) # |11> -> |10>"
   ]
  },
  {
   "cell_type": "code",
   "execution_count": 5,
   "metadata": {},
   "outputs": [],
   "source": [
    "# Defining Pauli-Z Gate\n",
    "pauli_z_data = [1, 0, 0, -1]\n",
    "size = [2,2]\n",
    "indices = [\"l\",\"n\"]\n",
    "Z = jet.Tensor(indices, size, pauli_z_data)"
   ]
  },
  {
   "cell_type": "code",
   "execution_count": 6,
   "metadata": {},
   "outputs": [],
   "source": [
    "# Defining Hadamard gate\n",
    "inv_sqrt_2 = 2 ** -0.5\n",
    "# The Hadamard gate can be viewed as a rank-2 tensor of size 2 by 2\n",
    "new_H = jet.Tensor([\"r\", \"t\"], [2, 2], [inv_sqrt_2, inv_sqrt_2, inv_sqrt_2, -inv_sqrt_2])"
   ]
  },
  {
   "cell_type": "code",
   "execution_count": 7,
   "metadata": {},
   "outputs": [],
   "source": [
    "# Defining CNOT gate\n",
    "# We can view it as a rank-4 tensor of size 2 by 2 by 2 by 2\n",
    "# Two of the legs of this tensor represent inputs and \n",
    "# the other two legs represent outputs\n",
    "new_CNOT = jet.Tensor([\"n\", \"m\", \"r\", \"s\"], [2, 2, 2, 2])\n",
    "new_CNOT.set_value((0, 0, 0, 0), 1) # |00> -> |00>\n",
    "new_CNOT.set_value((0, 1, 0, 1), 1) # |01> -> |01>\n",
    "new_CNOT.set_value((1, 0, 1, 1), 1) # |10> -> |11>\n",
    "new_CNOT.set_value((1, 1, 1, 0), 1) # |11> -> |10>"
   ]
  },
  {
   "cell_type": "code",
   "execution_count": 14,
   "metadata": {},
   "outputs": [
    {
     "name": "stdout",
     "output_type": "stream",
     "text": [
      "[[0.+0.j 1.+0.j 0.+0.j 0.+0.j]\n",
      " [0.+0.j 0.+0.j 0.+0.j 1.+0.j]\n",
      " [1.+0.j 0.+0.j 0.+0.j 0.+0.j]\n",
      " [0.+0.j 0.+0.j 1.+0.j 0.+0.j]]\n"
     ]
    }
   ],
   "source": [
    "# Explicitly define tensors with indices to mimic quantum circuit\n",
    "# Contract network to get resulting tensorproduct of paulis\n",
    "tn = jet.TensorNetwork()\n",
    "tn.add_tensor(H)\n",
    "tn.add_tensor(CNOT)\n",
    "tn.add_tensor(Z)\n",
    "tn.add_tensor(new_CNOT)\n",
    "tn.add_tensor(new_H)\n",
    "result = tn.contract()\n",
    "result = np.reshape(result.data, [4,4])\n",
    "print(result)\n",
    "\n"
   ]
  },
  {
   "cell_type": "code",
   "execution_count": null,
   "metadata": {},
   "outputs": [],
   "source": []
  }
 ],
 "metadata": {
  "interpreter": {
   "hash": "d4046caf55f50b54fa7ffdea1ad98452a8feb9cf62ccba5e4c76fe622e38f8fa"
  },
  "kernelspec": {
   "display_name": "Python 3.9.7 ('topo_quant')",
   "language": "python",
   "name": "python3"
  },
  "language_info": {
   "codemirror_mode": {
    "name": "ipython",
    "version": 3
   },
   "file_extension": ".py",
   "mimetype": "text/x-python",
   "name": "python",
   "nbconvert_exporter": "python",
   "pygments_lexer": "ipython3",
   "version": "3.9.7"
  },
  "orig_nbformat": 4
 },
 "nbformat": 4,
 "nbformat_minor": 2
}
