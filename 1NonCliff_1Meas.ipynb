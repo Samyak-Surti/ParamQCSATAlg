{
 "cells": [
  {
   "cell_type": "markdown",
   "metadata": {},
   "source": [
    "### 1 Non-Clifford + Projection onto state $\\ket{1}$\n",
    "- Consider circuit $U$ with one non-Clifford gate ($T$ rotation gate) and a projection onto the one state on only one qubit ($\\ket{1}\\bra{1}$)\n",
    "- Overarching Goal: Compute largest eigenvalue of $\\bra{0^m} U^{\\dagger} \\ket{1}\\bra{1} U \\ket{0^m} \\implies$ finding smallest eigenvalue of $\\bra{0^m} U^{\\dagger} Z U \\ket{0^m}$\n",
    "\n"
   ]
  },
  {
   "cell_type": "code",
   "execution_count": 1,
   "metadata": {},
   "outputs": [],
   "source": [
    "import stim"
   ]
  },
  {
   "cell_type": "code",
   "execution_count": 5,
   "metadata": {},
   "outputs": [],
   "source": [
    "num_wit_qubits = 2 # variable 'n' in paper\n",
    "# For now, what the witness qubits are initialized to be doesn't matter (I THINK)\n",
    "# as we are trying to minimize Val, given some optimal input states.\n",
    "wit_qubits = np.zeros(num_wit_qubits, dtype=complex)\n",
    "\n",
    "num_anc_qubits = 2 # variable 'm' in paper\n",
    "anc_qubits = np.zeros(num_anc_qubits, dtype=complex)\n",
    "\n",
    "num_t_gate = 1 # variable 't' in paper\n",
    "\n",
    "num_meas_qubits = 1 # variable 'k' in paper"
   ]
  }
 ],
 "metadata": {
  "interpreter": {
   "hash": "d4046caf55f50b54fa7ffdea1ad98452a8feb9cf62ccba5e4c76fe622e38f8fa"
  },
  "kernelspec": {
   "display_name": "Python 3.9.7 ('topo_quant')",
   "language": "python",
   "name": "python3"
  },
  "language_info": {
   "codemirror_mode": {
    "name": "ipython",
    "version": 3
   },
   "file_extension": ".py",
   "mimetype": "text/x-python",
   "name": "python",
   "nbconvert_exporter": "python",
   "pygments_lexer": "ipython3",
   "version": "3.9.7"
  },
  "orig_nbformat": 4
 },
 "nbformat": 4,
 "nbformat_minor": 2
}
