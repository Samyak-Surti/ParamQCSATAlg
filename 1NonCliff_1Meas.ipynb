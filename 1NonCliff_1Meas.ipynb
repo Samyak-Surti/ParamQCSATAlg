{
 "cells": [
  {
   "cell_type": "markdown",
   "metadata": {},
   "source": [
    "### 1 Non-Clifford + Projection onto state $\\ket{1}$\n",
    "- Consider circuit $U$ with one non-Clifford gate ($T$ rotation gate) and a projection onto the one state on only one qubit ($\\ket{1}\\bra{1}$)\n",
    "- Overarching Goal: Compute largest eigenvalue of $\\bra{0^m} U^{\\dagger} \\ket{1}\\bra{1} U \\ket{0^m} \\implies$ finding smallest eigenvalue of $\\bra{0^m} U^{\\dagger} Z U \\ket{0^m}$\n",
    "\n"
   ]
  },
  {
   "cell_type": "code",
   "execution_count": 2,
   "metadata": {},
   "outputs": [],
   "source": [
    "import stim\n",
    "import numpy as np"
   ]
  },
  {
   "cell_type": "markdown",
   "metadata": {},
   "source": [
    "### Adding T-gate Conjugation Functionality\n",
    "* One of the drawbacks of using stim is that it exclusively makes use of stabilizer circuits\n",
    "* Therefore, need to come up with a way to incorporate the behavior of conjugating Paulis by a T-gate\n",
    "* Options:\n",
    "    * Define a number of shots for random cliffords. Iterating over this number of shots, randomly, instead of placing a clifford gate, simulate action of T-gate on \n",
    "    current Pauli (I believe this will be easier to implement)\n",
    "        * Define number of shots to sample cliffords\n",
    "        * Start with pre-determined number of $T$-gates (Start with 1 for now)\n",
    "        * For one of the shots (choose random integer from 0 to num_shots - 1) apply T gate as opposed to random clifford\n",
    "        * Have list of tableaus where each element of list will be a summand.\n",
    "        * Apply current stabilizer tableau to each element of list\n",
    "        * In the end, there should be a list of tableaus on which we can apply each to a z-gate on the first qubit (via conjugation) to get out Sum of Paulis\n",
    "    * Try to download stim locally and define a T-gate so that it is symbolically represented as a sum of stabilizer tableaus.\n",
    "        * It can be written in the following way:\n",
    "        $$T = \\bigg(\\cos \\bigg(\\frac{\\pi}{8}\\bigg) - \\sin \\bigg(\\frac{\\pi}{8}\\bigg)\\bigg) \\mathbb{I} + e^{-i\\pi/4} \\sqrt{2}sin \\bigg(\\frac{\\pi}{8}\\bigg) S$$"
   ]
  },
  {
   "cell_type": "code",
   "execution_count": 17,
   "metadata": {},
   "outputs": [],
   "source": [
    "num_wit_qubits = 4 # variable 'n' in paper\n",
    "# For now, what the witness qubits are initialized to be doesn't matter (I THINK)\n",
    "# as we are trying to minimize Val, given some optimal input states.\n",
    "wit_qubits = np.zeros(num_wit_qubits, dtype=complex)\n",
    "\n",
    "num_anc_qubits = 0 # variable 'm' in paper\n",
    "anc_qubits = np.zeros(num_anc_qubits, dtype=complex)\n",
    "\n",
    "num_t_gate = 1 # variable 't' in paper\n",
    "\n",
    "num_meas_qubits = 1 # variable 'k' in paper\n",
    "total_qubits = num_wit_qubits + num_anc_qubits"
   ]
  },
  {
   "cell_type": "code",
   "execution_count": 18,
   "metadata": {},
   "outputs": [
    {
     "name": "stdout",
     "output_type": "stream",
     "text": [
      "[6]\n",
      "[[(0.7071067811865476-0j), stim.PauliString(\"-YX\")], [(-0.7071067811865476+0j), stim.PauliString(\"-YX\")]]\n"
     ]
    }
   ],
   "source": [
    "t = stim.Tableau(total_qubits) # Initialize identity tableau\n",
    "num_shots = 15 # Number of layers of gates we would like to apply\n",
    "t_gate_loc = [] # List of shot numbers corresponding to T-gate application\n",
    "t_gate_loc_count = 0;\n",
    "tableau_list = [] # List of tableaus, where each element will correspond to summands in sum of Paulis of result\n",
    "\n",
    "pauli_z_string = \"Z\" + \"_\" * (total_qubits - 1)\n",
    "z = stim.PauliString(pauli_z_string)\n",
    "pauli_sum = [[1, z]]\n",
    "#pauli_sum = np.array(pauli_sum)\n",
    "\n",
    "# Create list of shot numbers where we would like to apply T-gate\n",
    "for _ in range(num_t_gate):\n",
    "    num_to_add = np.random.randint(0, num_shots)\n",
    "    if (num_to_add in t_gate_loc):\n",
    "        continue\n",
    "    else:\n",
    "        t_gate_loc.append(num_to_add)\n",
    "\n",
    "print(t_gate_loc)\n",
    "\n",
    "# Need to sort this array so that application of T-gates makes chronological sense with elements of 't_gate_loc'\n",
    "t_gate_loc = np.sort(t_gate_loc) \n",
    "\n",
    "# Update tableau over number of shots\n",
    "#   - If have to apply T-gate:\n",
    "#       *  \n",
    "for i in range(num_shots):\n",
    "    if (t_gate_loc_count < len(t_gate_loc) and i == t_gate_loc[t_gate_loc_count]):\n",
    "        # Apply tableau so far on current Pauli in center\n",
    "        # (Since there is only one T-gate, we start with just Pauli Z on the first qubit)\n",
    "        interim_conj = t(pauli_sum[0][1])\n",
    "\n",
    "        # Update the 'pauli_sum' array to reflect application of tableau\n",
    "        pauli_sum[0][0] = pauli_sum[0][0] * interim_conj.sign\n",
    "        pauli_sum[0][1] = interim_conj\n",
    "\n",
    "        # Check Pauli on first qubit (hence the index we check is 1)\n",
    "        if (interim_conj.__str__()[1] == 'I' or interim_conj.__str__()[1] == 'Z'):\n",
    "            continue\n",
    "        elif (interim_conj.__str__()[1] == 'X'):\n",
    "            new_summand = [pauli_sum[0][0] * np.sqrt(2)/2, stim.PauliString(interim_conj.__str__()[0] + 'Y' + interim_conj.__str__()[2:])]\n",
    "            pauli_sum[0][0] = new_summand[0]\n",
    "            pauli_sum.append(new_summand)\n",
    "        else:\n",
    "            new_summand = [-1 * pauli_sum[0][0] * np.sqrt(2)/2, stim.PauliString(interim_conj.__str__()[0] + 'Y' + interim_conj.__str__()[2:])]\n",
    "            pauli_sum[0][0] = new_summand[0] * -1\n",
    "            pauli_sum.append(new_summand)\n",
    "\n",
    "            t_gate_loc_count += 1\n",
    "            t = stim.Tableau(total_qubits)\n",
    "    else:\n",
    "        t.append(stim.Tableau.random(total_qubits), list(range(total_qubits)))\n",
    "\n",
    "for elem in pauli_sum:\n",
    "    elem[1] = t(elem[1])\n",
    "    elem[0] = elem[0] * elem[1].sign\n",
    "\n",
    "print(pauli_sum)"
   ]
  }
 ],
 "metadata": {
  "kernelspec": {
   "display_name": "Python 3.9.7 ('topo_quant')",
   "language": "python",
   "name": "python3"
  },
  "language_info": {
   "codemirror_mode": {
    "name": "ipython",
    "version": 3
   },
   "file_extension": ".py",
   "mimetype": "text/x-python",
   "name": "python",
   "nbconvert_exporter": "python",
   "pygments_lexer": "ipython3",
   "version": "3.9.7"
  },
  "orig_nbformat": 4,
  "vscode": {
   "interpreter": {
    "hash": "d4046caf55f50b54fa7ffdea1ad98452a8feb9cf62ccba5e4c76fe622e38f8fa"
   }
  }
 },
 "nbformat": 4,
 "nbformat_minor": 2
}
