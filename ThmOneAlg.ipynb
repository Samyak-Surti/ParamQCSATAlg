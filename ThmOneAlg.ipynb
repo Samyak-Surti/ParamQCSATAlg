{
 "cells": [
  {
   "cell_type": "markdown",
   "metadata": {},
   "source": [
    "### Theorem 1 Proof Implementation\n",
    "* Begin by defining the following probability \n",
    "$$\\pi(U, \\psi) = ||\\Pi_{\\text{out}} U \\ket{\\psi \\otimes 0^m}||^2$$\n",
    "* Steps:\n",
    "    1) Magic-State Injection for implementing T-gate\n",
    "    2)"
   ]
  },
  {
   "cell_type": "code",
   "execution_count": null,
   "metadata": {},
   "outputs": [],
   "source": []
  }
 ],
 "metadata": {
  "language_info": {
   "name": "python"
  },
  "orig_nbformat": 4
 },
 "nbformat": 4,
 "nbformat_minor": 2
}
