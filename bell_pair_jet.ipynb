{
 "cells": [
  {
   "cell_type": "code",
   "execution_count": 1,
   "metadata": {},
   "outputs": [],
   "source": [
    "import jet"
   ]
  },
  {
   "cell_type": "code",
   "execution_count": 2,
   "metadata": {},
   "outputs": [],
   "source": [
    "# The control qubit is defined as a 1-D vector with 2 elements.\n",
    "q0 = jet.Tensor([\"i\"], [2], [1, 0])\n",
    "\n",
    "# Note that the index of ``q1`` differs from ``q0``.\n",
    "q1 = jet.Tensor([\"j\"], [2], [1, 0])"
   ]
  },
  {
   "cell_type": "code",
   "execution_count": 3,
   "metadata": {},
   "outputs": [],
   "source": [
    "# Defining Hadamard gate\n",
    "inv_sqrt_2 = 2 ** -0.5\n",
    "# The Hadamard gate can be viewed as a rank-2 tensor of size 2 by 2\n",
    "H = jet.Tensor([\"i\", \"k\"], [2, 2], [inv_sqrt_2, inv_sqrt_2, inv_sqrt_2, -inv_sqrt_2])"
   ]
  },
  {
   "cell_type": "code",
   "execution_count": 4,
   "metadata": {},
   "outputs": [],
   "source": [
    "# Defining CNOT gate\n",
    "# We can view it as a rank-4 tensor of size 2 by 2 by 2 by 2\n",
    "# Two of the legs of this tensor represent inputs and \n",
    "# the other two legs represent outputs\n",
    "CNOT = jet.Tensor([\"k\", \"j\", \"m\", \"n\"], [2, 2, 2, 2])\n",
    "CNOT.set_value((0, 0, 0, 0), 1) # |00> -> |00>\n",
    "CNOT.set_value((0, 1, 0, 1), 1) # |01> -> |01>\n",
    "CNOT.set_value((1, 0, 1, 1), 1) # |10> -> |11>\n",
    "CNOT.set_value((1, 1, 1, 0), 1) # |11> -> |10>"
   ]
  },
  {
   "cell_type": "code",
   "execution_count": 8,
   "metadata": {},
   "outputs": [],
   "source": [
    "# Now we create the corresponding tensornetwork\n",
    "tn = jet.TensorNetwork()\n",
    "tn.add_tensor(q0)\n",
    "tn.add_tensor(q1)\n",
    "tn.add_tensor(H)\n",
    "tn.add_tensor(CNOT)\n",
    "result = tn.contract()"
   ]
  },
  {
   "cell_type": "code",
   "execution_count": 9,
   "metadata": {},
   "outputs": [
    {
     "name": "stdout",
     "output_type": "stream",
     "text": [
      "Amplitude |00> = (0.7071067811865476+0j)\n",
      "Amplitude |01> = 0j\n",
      "Amplitude |10> = 0j\n",
      "Amplitude |11> = (0.7071067811865476+0j)\n"
     ]
    }
   ],
   "source": [
    "print(\"Amplitude |00> =\", result.get_value([0, 0]))\n",
    "print(\"Amplitude |01> =\", result.get_value([0, 1]))\n",
    "print(\"Amplitude |10> =\", result.get_value([1, 0]))\n",
    "print(\"Amplitude |11> =\", result.get_value([1, 1]))"
   ]
  },
  {
   "cell_type": "code",
   "execution_count": null,
   "metadata": {},
   "outputs": [],
   "source": []
  }
 ],
 "metadata": {
  "interpreter": {
   "hash": "d4046caf55f50b54fa7ffdea1ad98452a8feb9cf62ccba5e4c76fe622e38f8fa"
  },
  "kernelspec": {
   "display_name": "Python 3.9.7 ('topo_quant')",
   "language": "python",
   "name": "python3"
  },
  "language_info": {
   "codemirror_mode": {
    "name": "ipython",
    "version": 3
   },
   "file_extension": ".py",
   "mimetype": "text/x-python",
   "name": "python",
   "nbconvert_exporter": "python",
   "pygments_lexer": "ipython3",
   "version": "3.9.7"
  },
  "orig_nbformat": 4
 },
 "nbformat": 4,
 "nbformat_minor": 2
}
