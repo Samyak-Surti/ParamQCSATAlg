{
 "cells": [
  {
   "cell_type": "code",
   "execution_count": 58,
   "metadata": {},
   "outputs": [],
   "source": [
    "import jet \n",
    "import numpy as np"
   ]
  },
  {
   "cell_type": "markdown",
   "metadata": {},
   "source": [
    "### Approach #1 (Explicitly Defined Gates)"
   ]
  },
  {
   "cell_type": "code",
   "execution_count": 59,
   "metadata": {},
   "outputs": [
    {
     "name": "stdout",
     "output_type": "stream",
     "text": [
      "[[0.         0.         0.         0.70710678]\n",
      " [0.         0.70710678 0.         0.        ]\n",
      " [0.         0.         0.70710678 0.        ]\n",
      " [0.70710678 0.         0.         0.        ]]\n",
      "[[ 0.+0.j          0.+0.j          0.+0.j          0.+0.70710678j]\n",
      " [ 0.+0.j          0.+0.70710678j  0.+0.j          0.+0.j        ]\n",
      " [ 0.+0.j          0.+0.j         -0.-0.70710678j  0.+0.j        ]\n",
      " [-0.-0.70710678j  0.+0.j          0.+0.j          0.+0.j        ]]\n"
     ]
    }
   ],
   "source": [
    "# Define all gates for test circuit\n",
    "angle = (np.pi/4)*1j\n",
    "angle_p = -(np.pi/4) * 1j\n",
    "T = jet.Tensor([\"8\",\"9\"], [2,2], [1,0,0,np.exp(angle)])\n",
    "T_p = jet.Tensor([\"0\",\"1\"], [2,2],[1,0,0,np.exp(angle_p)])\n",
    "\n",
    "# Defining CNOT gate\n",
    "# We can view it as a rank-4 tensor of size 2 by 2 by 2 by 2\n",
    "# Two of the legs of this tensor represent inputs and \n",
    "# the other two legs represent outputs\n",
    "CNOT = jet.Tensor([\"7\", \"4\", \"8\", \"10\"], [2, 2, 2, 2])\n",
    "CNOT.set_value((0, 0, 0, 0), 1) # |00> -> |00>\n",
    "CNOT.set_value((0, 1, 0, 1), 1) # |01> -> |01>\n",
    "CNOT.set_value((1, 0, 1, 1), 1) # |10> -> |11>\n",
    "CNOT.set_value((1, 1, 1, 0), 1) # |11> -> |10>\n",
    "\n",
    "CNOT_p = jet.Tensor([\"1\", \"3\", \"2\", \"4\"], [2, 2, 2, 2])\n",
    "CNOT_p.set_value((0, 0, 0, 0), 1) # |00> -> |00>\n",
    "CNOT_p.set_value((0, 1, 0, 1), 1) # |01> -> |01>\n",
    "CNOT_p.set_value((1, 0, 1, 1), 1) # |10> -> |11>\n",
    "CNOT_p.set_value((1, 1, 1, 0), 1) # |11> -> |10>\n",
    "\n",
    "# Defining Hadamard gate\n",
    "inv_sqrt_2 = 2 ** -0.5\n",
    "# The Hadamard gate can be viewed as a rank-2 tensor of size 2 by 2\n",
    "H = jet.Tensor([\"6\", \"7\"], [2, 2], [inv_sqrt_2, inv_sqrt_2, inv_sqrt_2, -inv_sqrt_2])\n",
    "H_p = jet.Tensor([\"2\", \"5\"], [2, 2], [inv_sqrt_2, inv_sqrt_2, inv_sqrt_2, -inv_sqrt_2])\n",
    "\n",
    "# Defining Pauli-Z Gate\n",
    "pauli_z_data = [1, 0, 0, -1]\n",
    "size = [2,2]\n",
    "indices = [\"5\",\"6\"]\n",
    "Z = jet.Tensor(indices, size, pauli_z_data)\n",
    "\n",
    "tn = jet.TensorNetwork();\n",
    "tn.add_tensor(T_p)\n",
    "tn.add_tensor(CNOT_p)\n",
    "tn.add_tensor(H_p)\n",
    "tn.add_tensor(Z)\n",
    "tn.add_tensor(H)\n",
    "tn.add_tensor(CNOT)\n",
    "tn.add_tensor(T)\n",
    "result = tn.contract()\n",
    "result = np.reshape(result.data, [4,4])\n",
    "print(result.real)\n",
    "print(result.imag * 1j)"
   ]
  },
  {
   "cell_type": "markdown",
   "metadata": {},
   "source": [
    "The above result appears to be incorrect (requires debugging)"
   ]
  },
  {
   "cell_type": "markdown",
   "metadata": {},
   "source": [
    "### Approach #2 (Creating own gate using Jet QubitGate Class)"
   ]
  },
  {
   "cell_type": "code",
   "execution_count": 60,
   "metadata": {},
   "outputs": [],
   "source": [
    "from functools import lru_cache\n",
    "\n",
    "INV_SQRT2 = 1 / np.sqrt(2)\n",
    "angle = (np.pi/4)*1j\n",
    "\n",
    "class UGate(jet.QubitGate):\n",
    "    \"\"\" UGate represents our QCSAT instance \"\"\"\n",
    "\n",
    "    def __init__(self):\n",
    "        super().__init__(name=\"UGate\", num_wires=2)\n",
    "\n",
    "    @lru_cache()\n",
    "    def _data(self):\n",
    "        I = np.array([[1,0],[0,1]])\n",
    "        T = np.array([[1,0],[0,np.exp(angle)]])\n",
    "        CNOT = np.array([[1, 0, 0, 0], [0, 1, 0, 0], [0, 0, 0, 1], [0, 0, 1, 0]])\n",
    "        H = np.array([[INV_SQRT2, INV_SQRT2], [INV_SQRT2, -INV_SQRT2]])\n",
    "        mat1 = np.kron(T,I)\n",
    "        mat2 = CNOT\n",
    "        mat3 = np.kron(H,I)\n",
    "        mat = np.matmul(mat3, mat2)\n",
    "        mat = np.matmul(mat, mat1)\n",
    "        return mat"
   ]
  },
  {
   "cell_type": "code",
   "execution_count": 62,
   "metadata": {},
   "outputs": [
    {
     "name": "stdout",
     "output_type": "stream",
     "text": [
      "[[0.         0.         0.         0.70710678]\n",
      " [0.         0.         0.70710678 0.        ]\n",
      " [0.         0.70710678 0.         0.        ]\n",
      " [0.70710678 0.         0.         0.        ]]\n",
      "[[ 0.+0.j          0.+0.j          0.+0.j          0.+0.70710678j]\n",
      " [ 0.+0.j          0.+0.j          0.+0.70710678j  0.+0.j        ]\n",
      " [ 0.+0.j         -0.-0.70710678j  0.+0.j          0.+0.j        ]\n",
      " [-0.-0.70710678j  0.+0.j          0.+0.j          0.+0.j        ]]\n"
     ]
    }
   ],
   "source": [
    "tn = jet.TensorNetwork()\n",
    "U_tr = jet.Adjoint(UGate()).tensor()\n",
    "U_tr.rename_index(0, '0')\n",
    "U_tr.rename_index(1, '2')\n",
    "U_tr.rename_index(2, '5')\n",
    "U_tr.rename_index(3, '4')\n",
    "U = UGate().tensor()\n",
    "U.rename_index(0, '6')\n",
    "U.rename_index(1, '4')\n",
    "U.rename_index(2, '9')\n",
    "U.rename_index(3, '10')\n",
    "Z = jet.PauliZ().tensor()\n",
    "Z.rename_index(0, '5')\n",
    "Z.rename_index(1, '6')\n",
    "tn.add_tensor(U_tr)\n",
    "tn.add_tensor(Z)\n",
    "tn.add_tensor(U)\n",
    "result = tn.contract()\n",
    "result = np.reshape(result.data, [4,4])\n",
    "print(result.real)\n",
    "print(result.imag * 1j)"
   ]
  },
  {
   "cell_type": "markdown",
   "metadata": {},
   "source": [
    "The above matrices reflect the desired result"
   ]
  }
 ],
 "metadata": {
  "language_info": {
   "name": "python"
  },
  "orig_nbformat": 4
 },
 "nbformat": 4,
 "nbformat_minor": 2
}
