{
 "cells": [
  {
   "cell_type": "code",
   "execution_count": 30,
   "metadata": {},
   "outputs": [],
   "source": [
    "import jet\n",
    "import numpy as np"
   ]
  },
  {
   "cell_type": "code",
   "execution_count": 34,
   "metadata": {},
   "outputs": [
    {
     "name": "stdout",
     "output_type": "stream",
     "text": [
      "[[0.        +0.j         0.        +0.j         0.        +0.j\n",
      "  0.70710678+0.70710678j]\n",
      " [0.        +0.j         0.70710678+0.70710678j 0.        +0.j\n",
      "  0.        +0.j        ]\n",
      " [0.        +0.j         0.        +0.j         0.70710678-0.70710678j\n",
      "  0.        +0.j        ]\n",
      " [0.70710678-0.70710678j 0.        +0.j         0.        +0.j\n",
      "  0.        +0.j        ]]\n"
     ]
    }
   ],
   "source": [
    "# Define all gates for test circuit\n",
    "angle = (np.pi/4)*1j\n",
    "angle_p = -(np.pi/4) * 1j\n",
    "T = jet.Tensor([\"8\",\"9\"], [2,2], [1,0,0,np.exp(angle)])\n",
    "T_p = jet.Tensor([\"0\",\"1\"], [2,2],[1,0,0,np.exp(angle_p)])\n",
    "\n",
    "# Defining CNOT gate\n",
    "# We can view it as a rank-4 tensor of size 2 by 2 by 2 by 2\n",
    "# Two of the legs of this tensor represent inputs and \n",
    "# the other two legs represent outputs\n",
    "CNOT = jet.Tensor([\"7\", \"4\", \"8\", \"10\"], [2, 2, 2, 2])\n",
    "CNOT.set_value((0, 0, 0, 0), 1) # |00> -> |00>\n",
    "CNOT.set_value((0, 1, 0, 1), 1) # |01> -> |01>\n",
    "CNOT.set_value((1, 0, 1, 1), 1) # |10> -> |11>\n",
    "CNOT.set_value((1, 1, 1, 0), 1) # |11> -> |10>\n",
    "\n",
    "CNOT_p = jet.Tensor([\"1\", \"3\", \"2\", \"4\"], [2, 2, 2, 2])\n",
    "CNOT_p.set_value((0, 0, 0, 0), 1) # |00> -> |00>\n",
    "CNOT_p.set_value((0, 1, 0, 1), 1) # |01> -> |01>\n",
    "CNOT_p.set_value((1, 0, 1, 1), 1) # |10> -> |11>\n",
    "CNOT_p.set_value((1, 1, 1, 0), 1) # |11> -> |10>\n",
    "\n",
    "# Defining Hadamard gate\n",
    "inv_sqrt_2 = 2 ** -0.5\n",
    "# The Hadamard gate can be viewed as a rank-2 tensor of size 2 by 2\n",
    "H = jet.Tensor([\"6\", \"7\"], [2, 2], [inv_sqrt_2, inv_sqrt_2, inv_sqrt_2, -inv_sqrt_2])\n",
    "H_p = jet.Tensor([\"2\", \"5\"], [2, 2], [inv_sqrt_2, inv_sqrt_2, inv_sqrt_2, -inv_sqrt_2])\n",
    "\n",
    "# Defining Pauli-Z Gate\n",
    "pauli_z_data = [1, 0, 0, -1]\n",
    "size = [2,2]\n",
    "indices = [\"5\",\"6\"]\n",
    "Z = jet.Tensor(indices, size, pauli_z_data)\n",
    "\n",
    "tn = jet.TensorNetwork();\n",
    "tn.add_tensor(T_p)\n",
    "tn.add_tensor(CNOT_p)\n",
    "tn.add_tensor(H_p)\n",
    "tn.add_tensor(Z)\n",
    "tn.add_tensor(H)\n",
    "tn.add_tensor(CNOT)\n",
    "tn.add_tensor(T)\n",
    "result = tn.contract()\n",
    "result = np.reshape(result.data, [4,4])\n",
    "print(result)\n"
   ]
  },
  {
   "cell_type": "markdown",
   "metadata": {},
   "source": []
  }
 ],
 "metadata": {
  "interpreter": {
   "hash": "d4046caf55f50b54fa7ffdea1ad98452a8feb9cf62ccba5e4c76fe622e38f8fa"
  },
  "kernelspec": {
   "display_name": "Python 3.9.7 ('topo_quant')",
   "language": "python",
   "name": "python3"
  },
  "language_info": {
   "codemirror_mode": {
    "name": "ipython",
    "version": 3
   },
   "file_extension": ".py",
   "mimetype": "text/x-python",
   "name": "python",
   "nbconvert_exporter": "python",
   "pygments_lexer": "ipython3",
   "version": "3.9.7"
  },
  "orig_nbformat": 4
 },
 "nbformat": 4,
 "nbformat_minor": 2
}
