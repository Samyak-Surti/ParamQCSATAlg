{
 "cells": [
  {
   "cell_type": "code",
   "execution_count": 81,
   "metadata": {},
   "outputs": [],
   "source": [
    "import jet\n",
    "import numpy as np"
   ]
  },
  {
   "cell_type": "code",
   "execution_count": 86,
   "metadata": {},
   "outputs": [],
   "source": [
    "# Define a quantum circuit with 2 wires\n",
    "# Initialized with 2 qubits in zero state\n",
    "# This contraction happens with the defined scalars (0-state initialized qubits)\n",
    "qc = jet.Circuit(2)\n",
    "qc.append_gate(jet.Hadamard(), [0])\n",
    "qc.append_gate(jet.CX(), [0,1])\n",
    "qc.append_gate(jet.PauliZ(), [0])\n",
    "qc.append_gate(jet.CX(), [0,1])\n",
    "qc.append_gate(jet.Hadamard(), [0])\n",
    "qc.append_state(jet.state.Qubit(np.array([1+0j, 0])), [0]) \n",
    "qc.append_state(jet.state.Qubit(np.array([1+0j, 0])), [1])\n",
    "tn = qc.tensor_network()"
   ]
  },
  {
   "cell_type": "code",
   "execution_count": 87,
   "metadata": {},
   "outputs": [
    {
     "data": {
      "text/plain": [
       "Size = 1\n",
       "Indices = {}\n",
       "Data = {(0,0)}"
      ]
     },
     "execution_count": 87,
     "metadata": {},
     "output_type": "execute_result"
    }
   ],
   "source": [
    "tn.contract()"
   ]
  },
  {
   "cell_type": "code",
   "execution_count": null,
   "metadata": {},
   "outputs": [],
   "source": []
  }
 ],
 "metadata": {
  "language_info": {
   "name": "python"
  },
  "orig_nbformat": 4
 },
 "nbformat": 4,
 "nbformat_minor": 2
}
