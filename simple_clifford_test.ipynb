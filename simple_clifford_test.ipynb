{
 "cells": [
  {
   "cell_type": "code",
   "execution_count": 1,
   "metadata": {},
   "outputs": [],
   "source": [
    "import stim"
   ]
  },
  {
   "cell_type": "markdown",
   "metadata": {},
   "source": [
    "### Simple Clifford Test #1\n",
    "* Doing a test to see if the stabilizer tableau approach works for a very simple Clifford Circuit\n",
    "* Suppose our circuit $U$ consists of Hadamard on the first qubit followed by CNOT on the first and second\n",
    "* Then we construct $U^{\\dag}ZU$ accordingly\n",
    "* The resulting stabilizer tableau should indicate that the resulting Pauli operator is $X \\otimes X$"
   ]
  },
  {
   "cell_type": "code",
   "execution_count": 2,
   "metadata": {},
   "outputs": [
    {
     "name": "stdout",
     "output_type": "stream",
     "text": [
      "+XX\n"
     ]
    }
   ],
   "source": [
    "t = stim.Tableau(2)\n",
    "h = stim.Tableau.from_named_gate(\"H\")\n",
    "cnot = stim.Tableau.from_named_gate(\"CNOT\")\n",
    "z = stim.Tableau.from_named_gate(\"Z\")\n",
    "t.append(h, [0])\n",
    "t.append(cnot, [0,1])\n",
    "p = stim.PauliString(\"Z_\")\n",
    "result = t(p)\n",
    "print(result)"
   ]
  },
  {
   "cell_type": "markdown",
   "metadata": {},
   "source": [
    "As we see above, we get back the expected Pauli string $X \\otimes X$"
   ]
  },
  {
   "cell_type": "markdown",
   "metadata": {},
   "source": [
    "### Simple Clifford Test #2\n",
    "* Different approach to same circuit above"
   ]
  },
  {
   "cell_type": "code",
   "execution_count": 3,
   "metadata": {},
   "outputs": [
    {
     "name": "stdout",
     "output_type": "stream",
     "text": [
      "+XX\n"
     ]
    }
   ],
   "source": [
    "s = stim.TableauSimulator()\n",
    "s.cnot(0,1)\n",
    "s.h(0)\n",
    "p = stim.PauliString(\"Z_\")\n",
    "t = s.current_inverse_tableau()\n",
    "print(t(p))"
   ]
  },
  {
   "cell_type": "markdown",
   "metadata": {},
   "source": [
    "### Simple Clifford Test #3\n",
    "* Experiment with random Clifford circuits to see what Pauli string we get out"
   ]
  },
  {
   "cell_type": "code",
   "execution_count": 4,
   "metadata": {},
   "outputs": [
    {
     "name": "stdout",
     "output_type": "stream",
     "text": [
      "-ZZYY\n"
     ]
    }
   ],
   "source": [
    "num_shots = 10\n",
    "num_qubits = 4\n",
    "t = stim.Tableau(num_qubits) # Initialize tableau for identity operator on 4 qubits\n",
    "for _ in range(num_shots):\n",
    "    t.append(stim.Tableau.random(4), [0,1,2,3])\n",
    "pauli_z_string = \"Z\" + \"_\" * (num_qubits - 1)\n",
    "p = stim.PauliString(pauli_z_string)\n",
    "result = t(p)\n",
    "print(result)"
   ]
  },
  {
   "cell_type": "code",
   "execution_count": null,
   "metadata": {},
   "outputs": [],
   "source": []
  }
 ],
 "metadata": {
  "kernelspec": {
   "display_name": "Python 3.9.7 ('topo_quant')",
   "language": "python",
   "name": "python3"
  },
  "language_info": {
   "codemirror_mode": {
    "name": "ipython",
    "version": 3
   },
   "file_extension": ".py",
   "mimetype": "text/x-python",
   "name": "python",
   "nbconvert_exporter": "python",
   "pygments_lexer": "ipython3",
   "version": "3.9.7"
  },
  "orig_nbformat": 4,
  "vscode": {
   "interpreter": {
    "hash": "d4046caf55f50b54fa7ffdea1ad98452a8feb9cf62ccba5e4c76fe622e38f8fa"
   }
  }
 },
 "nbformat": 4,
 "nbformat_minor": 2
}
