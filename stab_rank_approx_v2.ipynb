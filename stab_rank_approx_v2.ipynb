{
 "cells": [
  {
   "cell_type": "code",
   "execution_count": 31,
   "metadata": {},
   "outputs": [],
   "source": [
    "import stim\n",
    "import numpy as np\n",
    "import qiskit\n",
    "import itertools\n",
    "import nbimporter\n",
    "\n",
    "from NonCliff_1Meas_V4 import *\n",
    "from stab_rank_approx import *\n",
    "\n",
    "from qiskit.quantum_info import Pauli, PauliList, StabilizerState\n",
    "from typing import List, Tuple"
   ]
  },
  {
   "cell_type": "code",
   "execution_count": 45,
   "metadata": {},
   "outputs": [],
   "source": [
    "def iterated_optimal_nearest_neighbor_V2(num_qubits:int, eig_vec:np.array, init_stab_state: np.array, used_states: List) -> np.array:\n",
    "    \"\"\" \n",
    "    Iteratively compute the optimal nearest neighbor whose inner product with 'eig_vec' is maximal\n",
    "\n",
    "    Parameters:\n",
    "    -----------\n",
    "    num_qubits - Number of qubits\n",
    "    eig_vec - Eigenvector we wish to approximate\n",
    "    init_stab_state - Initial stabilizer state where we start our search from \n",
    "\n",
    "    Returns:\n",
    "    --------\n",
    "    Optimal single state that best approximates 'eig_vec'\n",
    "    \"\"\"\n",
    "    num_iterations = 2 ** num_qubits\n",
    "    curr_stab_state = init_stab_state\n",
    "    max_inner_prod = 0\n",
    "    curr_best_stab_state = None\n",
    "    for _ in range(num_iterations):\n",
    "        curr_neighbors = find_nearest_neighbors_general(num_qubits, curr_stab_state)\n",
    "        optimal_neighbor = curr_neighbors[np.argmax([np.vdot(neighbor, eig_vec) for neighbor in curr_neighbors])]\n",
    "        curr_stab_state = optimal_neighbor \n",
    "        curr_inner_prod = np.vdot(curr_stab_state, eig_vec)\n",
    "        if (curr_inner_prod > max_inner_prod):\n",
    "            #if (np.any(np.array_equal(curr_stab_state, s) for s in used_states)):\n",
    "            #    continue\n",
    "            max_inner_prod = curr_inner_prod \n",
    "            curr_best_stab_state = curr_stab_state\n",
    "\n",
    "    return curr_best_stab_state, max_inner_prod"
   ]
  },
  {
   "cell_type": "code",
   "execution_count": 48,
   "metadata": {},
   "outputs": [],
   "source": [
    "def one_state_stab_approx_V2(num_qubits:int, eig_vec: np.array, used_states: List) -> np.array:\n",
    "    \"\"\" \n",
    "    Find best (?) single stabilizer state approximation for eigen vector \n",
    "\n",
    "    Parameters:\n",
    "    -----------\n",
    "    num_qubits - Number of qubits\n",
    "    eig_vec - Eigenvector we wish to approximate\n",
    "\n",
    "    Returns:\n",
    "    --------\n",
    "    Best (?) single stabilizer state that approximates eigenvector\n",
    "    \"\"\"\n",
    "\n",
    "    basis_vecs = comp_base_vecs(num_qubits) # Basis vectors given number of qubits\n",
    "    init_state = eig_vec.copy() # Make a copy of the original eigenvector\n",
    "    #final_approx_state = np.zeros((2**num_qubits,), dtype=complex) # Where result for best stab state approx is stored\n",
    "    \n",
    "    # Find basis state with maximum coefficient\n",
    "    max_coeff = state_max_coeff(eig_vec, basis_vecs)\n",
    "    init_stab_state = basis_vecs[max_coeff]\n",
    "\n",
    "    # Compute optimal nearest stab state in iterated fashion\n",
    "    final_approx_state, max_inner_prod = iterated_optimal_nearest_neighbor_V2(num_qubits, eig_vec, init_stab_state, used_states)\n",
    "\n",
    "    return final_approx_state, max_inner_prod"
   ]
  },
  {
   "cell_type": "code",
   "execution_count": 93,
   "metadata": {},
   "outputs": [],
   "source": [
    "def check_orthogonality(used_states: List, curr_stab: np.array):\n",
    "    \"\"\"\n",
    "    Checks that all the stabilizer states that are being used for decomposition are indeed orthogonal\n",
    "\n",
    "    Params:\n",
    "    -------\n",
    "    used_states - stabilizer states used so far \n",
    "    curr_stab - Next stabilizer state to be used for decomposition\n",
    "    \"\"\" \n",
    "    for elem in used_states:\n",
    "        if (np.vdot(curr_stab, elem) != 0):\n",
    "            return False \n",
    "    return True \n",
    "\n",
    "def stab_rank_approx_four_V2(num_qubits: int, eig_vec: np.array) -> Tuple:\n",
    "    \"\"\" \n",
    "    Approximate the stabilizer rank (using approach discussed)\n",
    "\n",
    "    Parameters:\n",
    "    -----------\n",
    "    num_qubits - Number of qubits\n",
    "    eig_vec - Eigenvector for which we'd like to evaluate stabilizer rank\n",
    "\n",
    "    Returns:\n",
    "    --------\n",
    "    Approximate stabilizer rank for eigenvector\n",
    "    \"\"\"\n",
    "    approx_stab_rank = 0 \n",
    "    approx_vec = np.zeros(len(min_eigvec), dtype=complex) # Vector we wish to construct to approximate 'eig_vec'\n",
    "    prec_param = 0.04 # Precision parameter to see how close dot prod of 'approx_vec' and 'eig_vec' is\n",
    "    used_states = []\n",
    "    norm_factor = 0\n",
    "    is_approx = False # While loop termination condition\n",
    "\n",
    "    copy_vec = eig_vec.copy()\n",
    "    while (is_approx == False):\n",
    "        # Calculate nearest stabilizer state\n",
    "        s, s_inner_prod = one_state_stab_approx_V2(num_qubits, eig_vec, used_states)\n",
    "        print(\"Is orthogonal?: \" + str(check_orthogonality(used_states, s)))\n",
    "        used_states.append(s)\n",
    "        print(\"Stab: \" + str(list(s)))\n",
    "\n",
    "        # Project 'eig_vec' on s\n",
    "        s_norm = np.linalg.norm(s)\n",
    "        s_coeff = np.vdot(s, eig_vec)\n",
    "        if (norm_factor == 0):\n",
    "            proj_vec = (s_coeff/s_norm**2) * s\n",
    "        else:\n",
    "            proj_vec = norm_factor * (s_coeff/s_norm**2) * s\n",
    "\n",
    "        # Subtract projection of 'eig_vec' on s from 'eig_vec'\n",
    "        unnorm_eig_vec = eig_vec - proj_vec \n",
    "        norm_factor = np.linalg.norm(unnorm_eig_vec)\n",
    "        eig_vec = unnorm_eig_vec / norm_factor\n",
    "\n",
    "        # Add projection to approximation and update stab rank\n",
    "        approx_vec += proj_vec\n",
    "        approx_stab_rank += 1\n",
    "\n",
    "        # Check closeness of approximation to original 'eig_vec'\n",
    "        print(np.vdot(approx_vec / np.linalg.norm(approx_vec), copy_vec))\n",
    "        if (np.abs(1 - np.vdot(approx_vec / np.linalg.norm(approx_vec), copy_vec)) <= prec_param):\n",
    "            is_approx = True \n",
    "        #print(np.linalg.norm((approx_vec / np.linalg.norm(approx_vec)) - copy_vec))\n",
    "        #if (np.linalg.norm((approx_vec / np.linalg.norm(approx_vec)) - copy_vec) <= prec_param):\n",
    "        #    is_approx = True\n",
    "\n",
    "        if (approx_stab_rank == 2 ** num_qubits):\n",
    "            break\n",
    "\n",
    "        print(list(approx_vec))\n",
    "        \n",
    "    approx_vec = approx_vec / np.linalg.norm(approx_vec)\n",
    "    \n",
    "    return approx_stab_rank, approx_vec\n"
   ]
  },
  {
   "cell_type": "code",
   "execution_count": 100,
   "metadata": {},
   "outputs": [],
   "source": [
    "num_wit_qubits = 25 # variable 'n' in paper\n",
    "# For now, what the witness qubits are initialized to be doesn't matter (I THINK)\n",
    "# as we are trying to minimize Val, given some optimal input states.\n",
    "wit_qubits = np.zeros(num_wit_qubits, dtype=complex)\n",
    "\n",
    "num_anc_qubits = 0 # variable 'm' in paper\n",
    "anc_qubits = np.zeros(num_anc_qubits, dtype=complex)\n",
    "\n",
    "num_t_gates = 4 # variable 't' in paper\n",
    "\n",
    "num_meas_qubits = 1 # variable 'k' in paper\n",
    "total_qubits = num_wit_qubits + num_anc_qubits\n",
    "\n",
    "num_layers = 20\n",
    "\n",
    "assert(num_layers > 0)"
   ]
  },
  {
   "cell_type": "code",
   "execution_count": 104,
   "metadata": {},
   "outputs": [
    {
     "name": "stdout",
     "output_type": "stream",
     "text": [
      "[(0.3535533905932737+0j) ZIIII] + [(-0.24999999999999992+0j) YZIII] + [(-0.3535533905932737+0j) YIIII] + [(-0.24999999999999992+0j) ZZIII] + [(-0.24999999999999992+0j) XYXZI] + [(0.3535533905932737+0j) IXXZI] + [(0.24999999999999992-0j) IYXZI] + [(-0.3535533905932737+0j) XXXZI] + [(0.24999999999999992-0j) YXIXI] + [(0.24999999999999992-0j) ZXIXI] + [(0.24999999999999992+0j) XIXYI] + [(0.24999999999999992-0j) IIXYI]\n",
      "[(0.0008877243349877717-0.00167768453404448j), (0.07400627418029808+0.14552496575670004j), (0.019194072255425826-0.09903155898480699j), (-0.08838005301141624+0.14085121016867566j), (-0.02504165419810756+0.049091834398506506j), (-0.021748208063286076+0.03389188035142385j), (0.12752544834671722-0.09365259806687298j), (-0.3096813207551338-0.04859375680778211j), (-0.025622849693075826+0.02818761526881014j), (0.08219523429853982-0.055140534290931006j), (0.036207595350246716-0.026115730076360106j), (-0.08919692926080372-0.10159695913301012j), (-0.08325854227331349+0.014099364956927237j), (0.11401243264682345+0.05551965539046269j), (0.029491254798233106-0.0457432234123393j), (-0.007382732036367251+0.029601966005594463j), (-0.058531253312522+0.1017957435751487j), (0.042106260315449666-0.031834148640571096j), (0.09497582312061893+0.09832909971123416j), (-0.12139308958350835-0.11775390525347867j), (-0.02742922233405453+0.02775345702252117j), (-0.007965235500637276-0.1570285045522969j), (0.051502617556616385+0.16942309047816495j), (0.2604745635640956-0.23281955813970434j), (-0.051346366301738486+0.04637304728300226j), (0.0033839086716230538+0.11661413194402089j), (-0.15791201947936181+0.16526144054137948j), (0.5191212300758206+0j), (0.00012308327635546235-0.06716703240692264j), (0.05282182424702274+0.2793178291353915j), (0.008339343827153498+0.16586509977230288j), (0.09582475977363167-0.2078533069546187j)]\n"
     ]
    }
   ],
   "source": [
    "p_sum, _ = sim_circ(total_qubits, num_layers, num_t_gates)\n",
    "succinct_p_sum = p_sum.succinct_p_sum(total_qubits)\n",
    "min_eigvec = succinct_p_sum.compute_min_eig_eigvec(len(p_sum.get_bases()))[1]\n",
    "new_total_qubits = len(succinct_p_sum.get_sum()[0].get_pauli_str(succinct_p_sum.get_sum()[0].get_pauli()))\n",
    "print(succinct_p_sum)\n",
    "print(list(min_eigvec))"
   ]
  },
  {
   "cell_type": "code",
   "execution_count": 105,
   "metadata": {},
   "outputs": [
    {
     "name": "stdout",
     "output_type": "stream",
     "text": [
      "Is orthogonal?: True\n",
      "Stab: [0j, 0.4999999999999999j, 0j, 0j, 0j, 0j, 0j, (-0.4999999999999999+0j), 0j, 0j, 0j, 0j, 0j, 0j, 0j, 0j, 0j, 0j, 0j, 0j, 0j, 0j, 0j, 0j, 0j, 0j, 0j, (0.4999999999999999+0j), 0j, 0.4999999999999999j, 0j, 0j]\n",
      "(0.628042049758951+0j)\n",
      "[0j, (0.01955858540488468+0.3134113364307615j), 0j, 0j, 0j, 0j, 0j, (-0.3134113364307615+0.01955858540488468j), 0j, 0j, 0j, 0j, 0j, 0j, 0j, 0j, 0j, 0j, 0j, 0j, 0j, 0j, 0j, 0j, 0j, 0j, 0j, (0.3134113364307615-0.01955858540488468j), 0j, (0.01955858540488468+0.3134113364307615j), 0j, 0j]\n",
      "Is orthogonal?: False\n",
      "Stab: [0j, 0j, 0j, 0j, 0j, 0j, 0j, 0j, 0j, 0j, 0j, 0j, 0j, 0j, 0j, 0j, 0j, 0j, (0.24999999999999992-0.24999999999999992j), (-0.24999999999999992-0.24999999999999992j), 0j, 0j, (0.24999999999999992+0.24999999999999992j), (0.24999999999999992-0.24999999999999992j), 0j, 0j, (-0.24999999999999992+0.24999999999999992j), (0.24999999999999992+0.24999999999999992j), 0j, 0j, (0.24999999999999992+0.24999999999999992j), (0.24999999999999992-0.24999999999999992j)]\n",
      "(0.8013958695993352-0.05305859303202452j)\n",
      "[0j, (0.01955858540488468+0.3134113364307615j), 0j, 0j, 0j, 0j, 0j, (-0.3134113364307615+0.01955858540488468j), 0j, 0j, 0j, 0j, 0j, 0j, 0j, 0j, 0j, 0j, (0.13522348085581742-0.11181876881710072j), (-0.11181876881710072-0.13522348085581742j), 0j, 0j, (0.11181876881710072+0.13522348085581742j), (0.13522348085581742-0.11181876881710072j), 0j, 0j, (-0.13522348085581742+0.11181876881710072j), (0.42523010524786226+0.11566489545093274j), 0j, (0.01955858540488468+0.3134113364307615j), (0.11181876881710072+0.13522348085581742j), (0.13522348085581742-0.11181876881710072j)]\n",
      "Is orthogonal?: False\n",
      "Stab: [0j, (0.1767766952966368-0.1767766952966368j), 0j, (-0.1767766952966368+0.1767766952966368j), (-0.1767766952966368+0.1767766952966368j), 0j, (0.1767766952966368-0.1767766952966368j), 0j, 0j, (0.1767766952966368-0.1767766952966368j), 0j, (-0.1767766952966368+0.1767766952966368j), (-0.1767766952966368+0.1767766952966368j), 0j, (0.1767766952966368-0.1767766952966368j), 0j, (-0.1767766952966368+0.1767766952966368j), 0j, (-0.1767766952966368+0.1767766952966368j), 0j, 0j, (0.1767766952966368-0.1767766952966368j), 0j, (0.1767766952966368-0.1767766952966368j), (-0.1767766952966368+0.1767766952966368j), 0j, (-0.1767766952966368+0.1767766952966368j), 0j, 0j, (0.1767766952966368-0.1767766952966368j), 0j, (0.1767766952966368-0.1767766952966368j)]\n",
      "(0.8829751618641941+0.016286527326440668j)\n",
      "[0j, (0.09372943922697353+0.2062387283518953j), 0j, (-0.07417085382208885+0.10717260807886622j), (-0.07417085382208885+0.10717260807886622j), 0j, (0.07417085382208885-0.10717260807886622j), (-0.3134113364307615+0.01955858540488468j), 0j, (0.07417085382208885-0.10717260807886622j), 0j, (-0.07417085382208885+0.10717260807886622j), (-0.07417085382208885+0.10717260807886622j), 0j, (0.07417085382208885-0.10717260807886622j), 0j, (-0.07417085382208885+0.10717260807886622j), 0j, (0.061052627033728574-0.004646160738234498j), (-0.11181876881710072-0.13522348085581742j), 0j, (0.07417085382208885-0.10717260807886622j), (0.11181876881710072+0.13522348085581742j), (0.20939433467790627-0.21899137689596693j), (-0.07417085382208885+0.10717260807886622j), 0j, (-0.20939433467790627+0.21899137689596693j), (0.42523010524786226+0.11566489545093274j), 0j, (0.09372943922697353+0.2062387283518953j), (0.11181876881710072+0.13522348085581742j), (0.20939433467790627-0.21899137689596693j)]\n",
      "Is orthogonal?: False\n",
      "Stab: [(0.12499999999999992+0.12499999999999992j), (-0.12499999999999992-0.12499999999999992j), (0.12499999999999992-0.12499999999999992j), (-0.12499999999999992+0.12499999999999992j), (0.12499999999999992-0.12499999999999992j), (-0.12499999999999992+0.12499999999999992j), (0.12499999999999992+0.12499999999999992j), (-0.12499999999999992-0.12499999999999992j), (-0.12499999999999992+0.12499999999999992j), (0.12499999999999992-0.12499999999999992j), (0.12499999999999992+0.12499999999999992j), (-0.12499999999999992-0.12499999999999992j), (-0.12499999999999992-0.12499999999999992j), (0.12499999999999992+0.12499999999999992j), (0.12499999999999992-0.12499999999999992j), (-0.12499999999999992+0.12499999999999992j), (-0.12499999999999992+0.12499999999999992j), (0.12499999999999992-0.12499999999999992j), (0.12499999999999992+0.12499999999999992j), (-0.12499999999999992-0.12499999999999992j), (0.12499999999999992+0.12499999999999992j), (-0.12499999999999992-0.12499999999999992j), (-0.12499999999999992+0.12499999999999992j), (0.12499999999999992-0.12499999999999992j), (-0.12499999999999992-0.12499999999999992j), (0.12499999999999992+0.12499999999999992j), (-0.12499999999999992+0.12499999999999992j), (0.12499999999999992-0.12499999999999992j), (0.12499999999999992-0.12499999999999992j), (-0.12499999999999992+0.12499999999999992j), (0.12499999999999992+0.12499999999999992j), (-0.12499999999999992-0.12499999999999992j)]\n",
      "(0.9217176630915451-0.03481776286994338j)\n",
      "[(0.05362626118459176+0.07126779517995271j), (0.040103178042381775+0.1349709331719426j), (0.07126779517995271-0.05362626118459176j), (-0.14543864900204156+0.160798869263458j), (-0.002903058642136136+0.05354634689427446j), (-0.07126779517995271+0.05362626118459176j), (0.12779711500668062-0.03590481289891351j), (-0.36703759761535326-0.05170920977506803j), (-0.07126779517995271+0.05362626118459176j), (0.14543864900204156-0.160798869263458j), (0.05362626118459176+0.07126779517995271j), (-0.12779711500668062+0.03590481289891351j), (-0.12779711500668062+0.03590481289891351j), (0.05362626118459176+0.07126779517995271j), (0.14543864900204156-0.160798869263458j), (-0.07126779517995271+0.05362626118459176j), (-0.14543864900204156+0.160798869263458j), (0.07126779517995271-0.05362626118459176j), (0.11467888821832034+0.06662163444171822j), (-0.16544503000169247-0.20649127603577014j), (0.05362626118459176+0.07126779517995271j), (0.02054459263749709-0.17844040325881894j), (0.040550973637148005+0.1888497420404092j), (0.280662129857859-0.27261763808055867j), (-0.12779711500668062+0.03590481289891351j), (0.05362626118459176+0.07126779517995271j), (-0.280662129857859+0.27261763808055867j), (0.49649790042781494+0.06203863426634098j), (0.07126779517995271-0.05362626118459176j), (0.02246164404702082+0.25986498953648707j), (0.16544503000169247+0.20649127603577014j), (0.1557680734933145-0.29025917207591967j)]\n",
      "Is orthogonal?: False\n",
      "Stab: [-0.17677669529663678j, -0.17677669529663678j, -0.17677669529663678j, 0.17677669529663678j, (0.17677669529663678+0j), (0.17677669529663678+0j), (0.17677669529663678+0j), (-0.17677669529663678+0j), -0.17677669529663678j, 0.17677669529663678j, -0.17677669529663678j, -0.17677669529663678j, (-0.17677669529663678+0j), (0.17677669529663678+0j), (-0.17677669529663678+0j), (-0.17677669529663678+0j), 0.17677669529663678j, 0.17677669529663678j, 0.17677669529663678j, -0.17677669529663678j, (-0.17677669529663678+0j), (-0.17677669529663678+0j), (-0.17677669529663678+0j), (0.17677669529663678+0j), -0.17677669529663678j, 0.17677669529663678j, -0.17677669529663678j, -0.17677669529663678j, (-0.17677669529663678+0j), (0.17677669529663678+0j), (-0.17677669529663678+0j), (-0.17677669529663678+0j)]\n",
      "(0.9283296813243751-0.017607552578057434j)\n",
      "[(0.06041331886230889-0.007502264700162839j), (0.046890235720098906+0.05620087329182703j), (0.07805485285766985-0.1323963210647073j), (-0.15222570667975868+0.23956892914357353j), (0.07586700123797942+0.06033340457199159j), (0.007502264700162839+0.06041331886230889j), (0.20656717488679616-0.02911775522119638j), (-0.4458076574954688-0.05849626745278516j), (-0.06448073750223558-0.025143798695523793j), (0.13865159132432445-0.08202880938334244j), (0.06041331886230889-0.007502264700162839j), (-0.12101005732896349-0.042865246981202046j), (-0.20656717488679616+0.02911775522119638j), (0.1323963210647073+0.07805485285766985j), (0.06666858912192601-0.1675859269411751j), (-0.15003785506006828+0.04683920350687463j), (-0.15222570667975868+0.23956892914357353j), (0.06448073750223558+0.025143798695523793j), (0.10789183054060321+0.14539169432183377j), (-0.15865797232397535-0.2852613359158857j), (-0.025143798695523793+0.06448073750223558j), (-0.05822546724261846-0.18522746093653605j), (-0.03821908624296755+0.18206268436269207j), (0.35943218973797453-0.2658305804028415j), (-0.12101005732896349-0.042865246981202046j), (0.04683920350687463+0.15003785506006828j), (-0.27387507218014184+0.19384757820044313j), (0.5032849581055321-0.016731425613774574j), (-0.007502264700162839-0.06041331886230889j), (0.10123170392713637+0.2666520472142042j), (0.08667497012157692+0.19970421835805302j), (0.07699801361319895-0.2970462297536368j)]\n"
     ]
    },
    {
     "ename": "KeyboardInterrupt",
     "evalue": "",
     "output_type": "error",
     "traceback": [
      "\u001b[0;31m---------------------------------------------------------------------------\u001b[0m",
      "\u001b[0;31mKeyboardInterrupt\u001b[0m                         Traceback (most recent call last)",
      "\u001b[0;32m/var/folders/5d/012l939x26zc05mjshslzh2h0000gn/T/ipykernel_58813/1909841164.py\u001b[0m in \u001b[0;36m<module>\u001b[0;34m\u001b[0m\n\u001b[0;32m----> 1\u001b[0;31m \u001b[0mapprox_stab_rank\u001b[0m\u001b[0;34m,\u001b[0m \u001b[0mapprox_vec\u001b[0m \u001b[0;34m=\u001b[0m \u001b[0mstab_rank_approx_four_V2\u001b[0m\u001b[0;34m(\u001b[0m\u001b[0mnew_total_qubits\u001b[0m\u001b[0;34m,\u001b[0m \u001b[0mmin_eigvec\u001b[0m\u001b[0;34m)\u001b[0m\u001b[0;34m\u001b[0m\u001b[0;34m\u001b[0m\u001b[0m\n\u001b[0m\u001b[1;32m      2\u001b[0m \u001b[0mprint\u001b[0m\u001b[0;34m(\u001b[0m\u001b[0mapprox_stab_rank\u001b[0m\u001b[0;34m,\u001b[0m \u001b[0mapprox_vec\u001b[0m\u001b[0;34m)\u001b[0m\u001b[0;34m\u001b[0m\u001b[0;34m\u001b[0m\u001b[0m\n",
      "\u001b[0;32m/var/folders/5d/012l939x26zc05mjshslzh2h0000gn/T/ipykernel_58813/475547212.py\u001b[0m in \u001b[0;36mstab_rank_approx_four_V2\u001b[0;34m(num_qubits, eig_vec)\u001b[0m\n\u001b[1;32m     36\u001b[0m     \u001b[0;32mwhile\u001b[0m \u001b[0;34m(\u001b[0m\u001b[0mis_approx\u001b[0m \u001b[0;34m==\u001b[0m \u001b[0;32mFalse\u001b[0m\u001b[0;34m)\u001b[0m\u001b[0;34m:\u001b[0m\u001b[0;34m\u001b[0m\u001b[0;34m\u001b[0m\u001b[0m\n\u001b[1;32m     37\u001b[0m         \u001b[0;31m# Calculate nearest stabilizer state\u001b[0m\u001b[0;34m\u001b[0m\u001b[0;34m\u001b[0m\u001b[0m\n\u001b[0;32m---> 38\u001b[0;31m         \u001b[0ms\u001b[0m\u001b[0;34m,\u001b[0m \u001b[0ms_inner_prod\u001b[0m \u001b[0;34m=\u001b[0m \u001b[0mone_state_stab_approx_V2\u001b[0m\u001b[0;34m(\u001b[0m\u001b[0mnum_qubits\u001b[0m\u001b[0;34m,\u001b[0m \u001b[0meig_vec\u001b[0m\u001b[0;34m,\u001b[0m \u001b[0mused_states\u001b[0m\u001b[0;34m)\u001b[0m\u001b[0;34m\u001b[0m\u001b[0;34m\u001b[0m\u001b[0m\n\u001b[0m\u001b[1;32m     39\u001b[0m         \u001b[0mprint\u001b[0m\u001b[0;34m(\u001b[0m\u001b[0;34m\"Is orthogonal?: \"\u001b[0m \u001b[0;34m+\u001b[0m \u001b[0mstr\u001b[0m\u001b[0;34m(\u001b[0m\u001b[0mcheck_orthogonality\u001b[0m\u001b[0;34m(\u001b[0m\u001b[0mused_states\u001b[0m\u001b[0;34m,\u001b[0m \u001b[0ms\u001b[0m\u001b[0;34m)\u001b[0m\u001b[0;34m)\u001b[0m\u001b[0;34m)\u001b[0m\u001b[0;34m\u001b[0m\u001b[0;34m\u001b[0m\u001b[0m\n\u001b[1;32m     40\u001b[0m         \u001b[0mused_states\u001b[0m\u001b[0;34m.\u001b[0m\u001b[0mappend\u001b[0m\u001b[0;34m(\u001b[0m\u001b[0ms\u001b[0m\u001b[0;34m)\u001b[0m\u001b[0;34m\u001b[0m\u001b[0;34m\u001b[0m\u001b[0m\n",
      "\u001b[0;32m/var/folders/5d/012l939x26zc05mjshslzh2h0000gn/T/ipykernel_58813/2885660580.py\u001b[0m in \u001b[0;36mone_state_stab_approx_V2\u001b[0;34m(num_qubits, eig_vec, used_states)\u001b[0m\n\u001b[1;32m     22\u001b[0m \u001b[0;34m\u001b[0m\u001b[0m\n\u001b[1;32m     23\u001b[0m     \u001b[0;31m# Compute optimal nearest stab state in iterated fashion\u001b[0m\u001b[0;34m\u001b[0m\u001b[0;34m\u001b[0m\u001b[0m\n\u001b[0;32m---> 24\u001b[0;31m     \u001b[0mfinal_approx_state\u001b[0m\u001b[0;34m,\u001b[0m \u001b[0mmax_inner_prod\u001b[0m \u001b[0;34m=\u001b[0m \u001b[0miterated_optimal_nearest_neighbor_V2\u001b[0m\u001b[0;34m(\u001b[0m\u001b[0mnum_qubits\u001b[0m\u001b[0;34m,\u001b[0m \u001b[0meig_vec\u001b[0m\u001b[0;34m,\u001b[0m \u001b[0minit_stab_state\u001b[0m\u001b[0;34m,\u001b[0m \u001b[0mused_states\u001b[0m\u001b[0;34m)\u001b[0m\u001b[0;34m\u001b[0m\u001b[0;34m\u001b[0m\u001b[0m\n\u001b[0m\u001b[1;32m     25\u001b[0m \u001b[0;34m\u001b[0m\u001b[0m\n\u001b[1;32m     26\u001b[0m     \u001b[0;32mreturn\u001b[0m \u001b[0mfinal_approx_state\u001b[0m\u001b[0;34m,\u001b[0m \u001b[0mmax_inner_prod\u001b[0m\u001b[0;34m\u001b[0m\u001b[0;34m\u001b[0m\u001b[0m\n",
      "\u001b[0;32m/var/folders/5d/012l939x26zc05mjshslzh2h0000gn/T/ipykernel_58813/98903438.py\u001b[0m in \u001b[0;36miterated_optimal_nearest_neighbor_V2\u001b[0;34m(num_qubits, eig_vec, init_stab_state, used_states)\u001b[0m\n\u001b[1;32m     18\u001b[0m     \u001b[0mcurr_best_stab_state\u001b[0m \u001b[0;34m=\u001b[0m \u001b[0;32mNone\u001b[0m\u001b[0;34m\u001b[0m\u001b[0;34m\u001b[0m\u001b[0m\n\u001b[1;32m     19\u001b[0m     \u001b[0;32mfor\u001b[0m \u001b[0m_\u001b[0m \u001b[0;32min\u001b[0m \u001b[0mrange\u001b[0m\u001b[0;34m(\u001b[0m\u001b[0mnum_iterations\u001b[0m\u001b[0;34m)\u001b[0m\u001b[0;34m:\u001b[0m\u001b[0;34m\u001b[0m\u001b[0;34m\u001b[0m\u001b[0m\n\u001b[0;32m---> 20\u001b[0;31m         \u001b[0mcurr_neighbors\u001b[0m \u001b[0;34m=\u001b[0m \u001b[0mfind_nearest_neighbors_general\u001b[0m\u001b[0;34m(\u001b[0m\u001b[0mnum_qubits\u001b[0m\u001b[0;34m,\u001b[0m \u001b[0mcurr_stab_state\u001b[0m\u001b[0;34m)\u001b[0m\u001b[0;34m\u001b[0m\u001b[0;34m\u001b[0m\u001b[0m\n\u001b[0m\u001b[1;32m     21\u001b[0m         \u001b[0moptimal_neighbor\u001b[0m \u001b[0;34m=\u001b[0m \u001b[0mcurr_neighbors\u001b[0m\u001b[0;34m[\u001b[0m\u001b[0mnp\u001b[0m\u001b[0;34m.\u001b[0m\u001b[0margmax\u001b[0m\u001b[0;34m(\u001b[0m\u001b[0;34m[\u001b[0m\u001b[0mnp\u001b[0m\u001b[0;34m.\u001b[0m\u001b[0mvdot\u001b[0m\u001b[0;34m(\u001b[0m\u001b[0mneighbor\u001b[0m\u001b[0;34m,\u001b[0m \u001b[0meig_vec\u001b[0m\u001b[0;34m)\u001b[0m \u001b[0;32mfor\u001b[0m \u001b[0mneighbor\u001b[0m \u001b[0;32min\u001b[0m \u001b[0mcurr_neighbors\u001b[0m\u001b[0;34m]\u001b[0m\u001b[0;34m)\u001b[0m\u001b[0;34m]\u001b[0m\u001b[0;34m\u001b[0m\u001b[0;34m\u001b[0m\u001b[0m\n\u001b[1;32m     22\u001b[0m         \u001b[0mcurr_stab_state\u001b[0m \u001b[0;34m=\u001b[0m \u001b[0moptimal_neighbor\u001b[0m\u001b[0;34m\u001b[0m\u001b[0;34m\u001b[0m\u001b[0m\n",
      "\u001b[0;32m~/Documents/Documents - Samyak’s MacBook Pro/Summer2022/ParamQCSATAlg/stab_rank_approx.ipynb\u001b[0m in \u001b[0;36mfind_nearest_neighbors_general\u001b[0;34m(num_qubits, stab_state)\u001b[0m\n\u001b[1;32m     48\u001b[0m     \u001b[0;34m\"    Parameters:\\n\"\u001b[0m\u001b[0;34m,\u001b[0m\u001b[0;34m\u001b[0m\u001b[0;34m\u001b[0m\u001b[0m\n\u001b[1;32m     49\u001b[0m     \u001b[0;34m\"    -----------\\n\"\u001b[0m\u001b[0;34m,\u001b[0m\u001b[0;34m\u001b[0m\u001b[0;34m\u001b[0m\u001b[0m\n\u001b[0;32m---> 50\u001b[0;31m     \u001b[0;34m\"    used_neighbors - List of previous optimal choice of nearest neighbors\\n\"\u001b[0m\u001b[0;34m,\u001b[0m\u001b[0;34m\u001b[0m\u001b[0;34m\u001b[0m\u001b[0m\n\u001b[0m\u001b[1;32m     51\u001b[0m     \u001b[0;34m\"    neighbor_list - List of nearest neighbors\\n\"\u001b[0m\u001b[0;34m,\u001b[0m\u001b[0;34m\u001b[0m\u001b[0;34m\u001b[0m\u001b[0m\n\u001b[1;32m     52\u001b[0m     \u001b[0;34m\"\\n\"\u001b[0m\u001b[0;34m,\u001b[0m\u001b[0;34m\u001b[0m\u001b[0;34m\u001b[0m\u001b[0m\n",
      "\u001b[0;32m~/Documents/Documents - Samyak’s MacBook Pro/Summer2022/ParamQCSATAlg/stab_rank_approx.ipynb\u001b[0m in \u001b[0;36m<listcomp>\u001b[0;34m(.0)\u001b[0m\n\u001b[1;32m     48\u001b[0m     \u001b[0;34m\"    Parameters:\\n\"\u001b[0m\u001b[0;34m,\u001b[0m\u001b[0;34m\u001b[0m\u001b[0;34m\u001b[0m\u001b[0m\n\u001b[1;32m     49\u001b[0m     \u001b[0;34m\"    -----------\\n\"\u001b[0m\u001b[0;34m,\u001b[0m\u001b[0;34m\u001b[0m\u001b[0;34m\u001b[0m\u001b[0m\n\u001b[0;32m---> 50\u001b[0;31m     \u001b[0;34m\"    used_neighbors - List of previous optimal choice of nearest neighbors\\n\"\u001b[0m\u001b[0;34m,\u001b[0m\u001b[0;34m\u001b[0m\u001b[0;34m\u001b[0m\u001b[0m\n\u001b[0m\u001b[1;32m     51\u001b[0m     \u001b[0;34m\"    neighbor_list - List of nearest neighbors\\n\"\u001b[0m\u001b[0;34m,\u001b[0m\u001b[0;34m\u001b[0m\u001b[0;34m\u001b[0m\u001b[0m\n\u001b[1;32m     52\u001b[0m     \u001b[0;34m\"\\n\"\u001b[0m\u001b[0;34m,\u001b[0m\u001b[0;34m\u001b[0m\u001b[0;34m\u001b[0m\u001b[0m\n",
      "\u001b[0;32m~/opt/anaconda3/envs/topo_quant/lib/python3.9/site-packages/qiskit/quantum_info/operators/symplectic/pauli.py\u001b[0m in \u001b[0;36mto_matrix\u001b[0;34m(self, sparse)\u001b[0m\n\u001b[1;32m    413\u001b[0m             \u001b[0marray\u001b[0m\u001b[0;34m:\u001b[0m \u001b[0mThe\u001b[0m \u001b[0mPauli\u001b[0m \u001b[0mmatrix\u001b[0m\u001b[0;34m.\u001b[0m\u001b[0;34m\u001b[0m\u001b[0;34m\u001b[0m\u001b[0m\n\u001b[1;32m    414\u001b[0m         \"\"\"\n\u001b[0;32m--> 415\u001b[0;31m         \u001b[0;32mreturn\u001b[0m \u001b[0mself\u001b[0m\u001b[0;34m.\u001b[0m\u001b[0m_to_matrix\u001b[0m\u001b[0;34m(\u001b[0m\u001b[0mself\u001b[0m\u001b[0;34m.\u001b[0m\u001b[0mz\u001b[0m\u001b[0;34m,\u001b[0m \u001b[0mself\u001b[0m\u001b[0;34m.\u001b[0m\u001b[0mx\u001b[0m\u001b[0;34m,\u001b[0m \u001b[0mself\u001b[0m\u001b[0;34m.\u001b[0m\u001b[0m_phase\u001b[0m\u001b[0;34m[\u001b[0m\u001b[0;36m0\u001b[0m\u001b[0;34m]\u001b[0m\u001b[0;34m,\u001b[0m \u001b[0msparse\u001b[0m\u001b[0;34m=\u001b[0m\u001b[0msparse\u001b[0m\u001b[0;34m)\u001b[0m\u001b[0;34m\u001b[0m\u001b[0;34m\u001b[0m\u001b[0m\n\u001b[0m\u001b[1;32m    416\u001b[0m \u001b[0;34m\u001b[0m\u001b[0m\n\u001b[1;32m    417\u001b[0m     \u001b[0;32mdef\u001b[0m \u001b[0mto_instruction\u001b[0m\u001b[0;34m(\u001b[0m\u001b[0mself\u001b[0m\u001b[0;34m)\u001b[0m\u001b[0;34m:\u001b[0m\u001b[0;34m\u001b[0m\u001b[0;34m\u001b[0m\u001b[0m\n",
      "\u001b[0;32m~/opt/anaconda3/envs/topo_quant/lib/python3.9/site-packages/qiskit/quantum_info/operators/symplectic/base_pauli.py\u001b[0m in \u001b[0;36m_to_matrix\u001b[0;34m(z, x, phase, group_phase, sparse)\u001b[0m\n\u001b[1;32m    420\u001b[0m         \u001b[0;32melse\u001b[0m\u001b[0;34m:\u001b[0m\u001b[0;34m\u001b[0m\u001b[0;34m\u001b[0m\u001b[0m\n\u001b[1;32m    421\u001b[0m             \u001b[0mcoeff\u001b[0m \u001b[0;34m=\u001b[0m \u001b[0;36m1\u001b[0m\u001b[0;34m\u001b[0m\u001b[0;34m\u001b[0m\u001b[0m\n\u001b[0;32m--> 422\u001b[0;31m         \u001b[0mdata\u001b[0m \u001b[0;34m=\u001b[0m \u001b[0mnp\u001b[0m\u001b[0;34m.\u001b[0m\u001b[0marray\u001b[0m\u001b[0;34m(\u001b[0m\u001b[0;34m[\u001b[0m\u001b[0mcoeff\u001b[0m \u001b[0;34m*\u001b[0m \u001b[0;34m(\u001b[0m\u001b[0;34m-\u001b[0m\u001b[0;36m1\u001b[0m\u001b[0;34m)\u001b[0m \u001b[0;34m**\u001b[0m \u001b[0;34m(\u001b[0m\u001b[0mbin\u001b[0m\u001b[0;34m(\u001b[0m\u001b[0mi\u001b[0m\u001b[0;34m)\u001b[0m\u001b[0;34m.\u001b[0m\u001b[0mcount\u001b[0m\u001b[0;34m(\u001b[0m\u001b[0;34m\"1\"\u001b[0m\u001b[0;34m)\u001b[0m \u001b[0;34m%\u001b[0m \u001b[0;36m2\u001b[0m\u001b[0;34m)\u001b[0m \u001b[0;32mfor\u001b[0m \u001b[0mi\u001b[0m \u001b[0;32min\u001b[0m \u001b[0mz_indices\u001b[0m \u001b[0;34m&\u001b[0m \u001b[0mindptr\u001b[0m\u001b[0;34m]\u001b[0m\u001b[0;34m)\u001b[0m\u001b[0;34m\u001b[0m\u001b[0;34m\u001b[0m\u001b[0m\n\u001b[0m\u001b[1;32m    423\u001b[0m         \u001b[0;32mif\u001b[0m \u001b[0msparse\u001b[0m\u001b[0;34m:\u001b[0m\u001b[0;34m\u001b[0m\u001b[0;34m\u001b[0m\u001b[0m\n\u001b[1;32m    424\u001b[0m             \u001b[0;31m# Return sparse matrix\u001b[0m\u001b[0;34m\u001b[0m\u001b[0;34m\u001b[0m\u001b[0m\n",
      "\u001b[0;32m~/opt/anaconda3/envs/topo_quant/lib/python3.9/site-packages/qiskit/quantum_info/operators/symplectic/base_pauli.py\u001b[0m in \u001b[0;36m<listcomp>\u001b[0;34m(.0)\u001b[0m\n\u001b[1;32m    420\u001b[0m         \u001b[0;32melse\u001b[0m\u001b[0;34m:\u001b[0m\u001b[0;34m\u001b[0m\u001b[0;34m\u001b[0m\u001b[0m\n\u001b[1;32m    421\u001b[0m             \u001b[0mcoeff\u001b[0m \u001b[0;34m=\u001b[0m \u001b[0;36m1\u001b[0m\u001b[0;34m\u001b[0m\u001b[0;34m\u001b[0m\u001b[0m\n\u001b[0;32m--> 422\u001b[0;31m         \u001b[0mdata\u001b[0m \u001b[0;34m=\u001b[0m \u001b[0mnp\u001b[0m\u001b[0;34m.\u001b[0m\u001b[0marray\u001b[0m\u001b[0;34m(\u001b[0m\u001b[0;34m[\u001b[0m\u001b[0mcoeff\u001b[0m \u001b[0;34m*\u001b[0m \u001b[0;34m(\u001b[0m\u001b[0;34m-\u001b[0m\u001b[0;36m1\u001b[0m\u001b[0;34m)\u001b[0m \u001b[0;34m**\u001b[0m \u001b[0;34m(\u001b[0m\u001b[0mbin\u001b[0m\u001b[0;34m(\u001b[0m\u001b[0mi\u001b[0m\u001b[0;34m)\u001b[0m\u001b[0;34m.\u001b[0m\u001b[0mcount\u001b[0m\u001b[0;34m(\u001b[0m\u001b[0;34m\"1\"\u001b[0m\u001b[0;34m)\u001b[0m \u001b[0;34m%\u001b[0m \u001b[0;36m2\u001b[0m\u001b[0;34m)\u001b[0m \u001b[0;32mfor\u001b[0m \u001b[0mi\u001b[0m \u001b[0;32min\u001b[0m \u001b[0mz_indices\u001b[0m \u001b[0;34m&\u001b[0m \u001b[0mindptr\u001b[0m\u001b[0;34m]\u001b[0m\u001b[0;34m)\u001b[0m\u001b[0;34m\u001b[0m\u001b[0;34m\u001b[0m\u001b[0m\n\u001b[0m\u001b[1;32m    423\u001b[0m         \u001b[0;32mif\u001b[0m \u001b[0msparse\u001b[0m\u001b[0;34m:\u001b[0m\u001b[0;34m\u001b[0m\u001b[0;34m\u001b[0m\u001b[0m\n\u001b[1;32m    424\u001b[0m             \u001b[0;31m# Return sparse matrix\u001b[0m\u001b[0;34m\u001b[0m\u001b[0;34m\u001b[0m\u001b[0m\n",
      "\u001b[0;31mKeyboardInterrupt\u001b[0m: "
     ]
    }
   ],
   "source": [
    "approx_stab_rank, approx_vec = stab_rank_approx_four_V2(new_total_qubits, min_eigvec)\n",
    "print(approx_stab_rank, approx_vec)"
   ]
  },
  {
   "cell_type": "code",
   "execution_count": 87,
   "metadata": {},
   "outputs": [
    {
     "name": "stdout",
     "output_type": "stream",
     "text": [
      "[ 0.00231543-0.j  0.21659858-0.j -0.00231543-0.j  0.21659858-0.j\n",
      " -0.31484011-0.j  0.04351239-0.j  0.31484011-0.j  0.04351239-0.j\n",
      " -0.43281768-0.j  0.20946913-0.j  0.43281768+0.j  0.20946913-0.j\n",
      "  0.22040237-0.j  0.26884272-0.j -0.22040237-0.j  0.26884272-0.j]\n",
      "(0.9721400017546745+0j)\n"
     ]
    }
   ],
   "source": [
    "print(min_eigvec)\n",
    "print(np.vdot(min_eigvec, approx_vec))"
   ]
  }
 ],
 "metadata": {
  "kernelspec": {
   "display_name": "Python 3.9.7 ('topo_quant')",
   "language": "python",
   "name": "python3"
  },
  "language_info": {
   "codemirror_mode": {
    "name": "ipython",
    "version": 3
   },
   "file_extension": ".py",
   "mimetype": "text/x-python",
   "name": "python",
   "nbconvert_exporter": "python",
   "pygments_lexer": "ipython3",
   "version": "3.9.7"
  },
  "orig_nbformat": 4,
  "vscode": {
   "interpreter": {
    "hash": "d4046caf55f50b54fa7ffdea1ad98452a8feb9cf62ccba5e4c76fe622e38f8fa"
   }
  }
 },
 "nbformat": 4,
 "nbformat_minor": 2
}
