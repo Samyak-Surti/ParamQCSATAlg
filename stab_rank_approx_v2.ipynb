{
 "cells": [
  {
   "cell_type": "code",
   "execution_count": 1,
   "metadata": {},
   "outputs": [],
   "source": [
    "import stim\n",
    "import numpy as np\n",
    "import qiskit\n",
    "import itertools\n",
    "import nbimporter\n",
    "\n",
    "from NonCliff_1Meas_V4 import *\n",
    "from stab_rank_approx import *\n",
    "\n",
    "from qiskit.quantum_info import Pauli, PauliList, StabilizerState\n",
    "from typing import List, Tuple"
   ]
  },
  {
   "cell_type": "code",
   "execution_count": 208,
   "metadata": {},
   "outputs": [],
   "source": [
    "def find_nearest_neighbors_general_V2(num_qubits: int, stab_state: np.array) -> List:\n",
    "    \"\"\" \n",
    "    Construct list of all nearest neighbor stabilizer states for arbitrary stabilizer state.\n",
    "\n",
    "    Parameters:\n",
    "    -----------\n",
    "    stab_state - Stabilizer state for which we wish to find neighbors\n",
    "\n",
    "    Returns:\n",
    "    --------\n",
    "    List of nearest neighbors\n",
    "    \"\"\"\n",
    "    bias = 1/np.sqrt(2)\n",
    "    all_paulis = generate_all_paulis(num_qubits)\n",
    "    new_stabs = [p.to_matrix() @ stab_state for p in all_paulis]\n",
    "    new_stabs_orthogonal = [stab for stab in new_stabs if np.vdot(stab_state, stab) == 0]\n",
    "    neighbors = [np.add(stab_state, stab) * bias for stab in new_stabs_orthogonal]\n",
    "    neighbors_dict = {stab.tobytes(): stab for stab in neighbors}\n",
    "    # return list(neighbors_dict.values())\n",
    "    final_neighbors = list(neighbors_dict.values())\n",
    "    final_neighbors.append(stab_state)\n",
    "    return final_neighbors"
   ]
  },
  {
   "cell_type": "code",
   "execution_count": 272,
   "metadata": {},
   "outputs": [],
   "source": [
    "def is_orthogonal(used_states: List, curr_stab: np.array):\n",
    "    \"\"\"\n",
    "    Checks that all the stabilizer states that are being used for decomposition are indeed orthogonal\n",
    "\n",
    "    Params:\n",
    "    -------\n",
    "    used_states - stabilizer states used so far \n",
    "    curr_stab - Next stabilizer state to be used for decomposition\n",
    "    \"\"\" \n",
    "    if (np.array_equal(curr_stab, None)):\n",
    "        return False\n",
    "    for elem in used_states:\n",
    "        if (np.vdot(curr_stab, elem) != 0):\n",
    "            return False \n",
    "    return True \n",
    "\n",
    "def iterated_optimal_nearest_neighbor_V2(num_qubits:int, eig_vec:np.array, init_stab_state: np.array, used_states: List) -> np.array:\n",
    "    \"\"\" \n",
    "    Iteratively compute the optimal nearest neighbor whose inner product with 'eig_vec' is maximal\n",
    "\n",
    "    Parameters:\n",
    "    -----------\n",
    "    num_qubits - Number of qubits\n",
    "    eig_vec - Eigenvector we wish to approximate\n",
    "    init_stab_state - Initial stabilizer state where we start our search from \n",
    "\n",
    "    Returns:\n",
    "    --------\n",
    "    Optimal single state that best approximates 'eig_vec'\n",
    "    \"\"\"\n",
    "    num_iterations = 2 ** num_qubits\n",
    "    curr_stab_state = init_stab_state\n",
    "    max_inner_prod = 0\n",
    "    curr_best_stab_state = None\n",
    "    for _ in range(num_iterations):\n",
    "        curr_neighbors = find_nearest_neighbors_general_V2(num_qubits, curr_stab_state)\n",
    "        if (used_states != []):\n",
    "            cp = []\n",
    "            for neighbor in curr_neighbors:\n",
    "                for state in used_states:\n",
    "                    if (np.vdot(neighbor, state) == 0):\n",
    "                        cp.append(neighbor)\n",
    "            curr_neighbors = cp\n",
    "        optimal_neighbor = curr_neighbors[np.argmax([np.abs(np.vdot(neighbor, eig_vec)) for neighbor in curr_neighbors])]\n",
    "        curr_stab_state = optimal_neighbor \n",
    "        #curr_inner_prod = np.vdot(curr_stab_state, eig_vec)\n",
    "        curr_inner_prod = np.abs(np.vdot(curr_stab_state, eig_vec))\n",
    "        if (np.array_equal(curr_best_stab_state,curr_stab_state)):\n",
    "            break\n",
    "        if (curr_inner_prod > max_inner_prod):\n",
    "            max_inner_prod = curr_inner_prod \n",
    "            curr_best_stab_state = curr_stab_state\n",
    "\n",
    "    return curr_best_stab_state, max_inner_prod"
   ]
  },
  {
   "cell_type": "code",
   "execution_count": 250,
   "metadata": {},
   "outputs": [],
   "source": [
    "def one_state_stab_approx_V2(num_qubits:int, eig_vec: np.array, used_states: List) -> np.array:\n",
    "    \"\"\" \n",
    "    Find best (?) single stabilizer state approximation for eigen vector \n",
    "\n",
    "    Parameters:\n",
    "    -----------\n",
    "    num_qubits - Number of qubits\n",
    "    eig_vec - Eigenvector we wish to approximate\n",
    "\n",
    "    Returns:\n",
    "    --------\n",
    "    Best (?) single stabilizer state that approximates eigenvector\n",
    "    \"\"\"\n",
    "\n",
    "    basis_vecs = comp_base_vecs(num_qubits) # Basis vectors given number of qubits\n",
    "    init_state = eig_vec.copy() # Make a copy of the original eigenvector\n",
    "    #final_approx_state = np.zeros((2**num_qubits,), dtype=complex) # Where result for best stab state approx is stored\n",
    "    \n",
    "    # Find basis state with maximum coefficient\n",
    "    max_coeff = state_max_coeff(eig_vec, basis_vecs)\n",
    "    init_stab_state = basis_vecs[max_coeff]\n",
    "\n",
    "    # Compute optimal nearest stab state in iterated fashion\n",
    "    final_approx_state, max_inner_prod = iterated_optimal_nearest_neighbor_V2(num_qubits, eig_vec, init_stab_state, used_states)\n",
    "\n",
    "    return final_approx_state, max_inner_prod"
   ]
  },
  {
   "cell_type": "code",
   "execution_count": 359,
   "metadata": {},
   "outputs": [],
   "source": [
    "def stab_rank_approx_four_V2(num_qubits: int, eig_vec: np.array) -> Tuple:\n",
    "    \"\"\" \n",
    "    Approximate the stabilizer rank (using approach discussed)\n",
    "\n",
    "    Parameters:\n",
    "    -----------\n",
    "    num_qubits - Number of qubits\n",
    "    eig_vec - Eigenvector for which we'd like to evaluate stabilizer rank\n",
    "\n",
    "    Returns:\n",
    "    --------\n",
    "    Approximate stabilizer rank for eigenvector\n",
    "    \"\"\"\n",
    "    approx_stab_rank = 0 \n",
    "    approx_vec = np.zeros(len(min_eigvec), dtype=complex) # Vector we wish to construct to approximate 'eig_vec'\n",
    "    prec_param = 0.02 # Precision parameter to see how close dot prod of 'approx_vec' and 'eig_vec' is\n",
    "    used_states = []\n",
    "    norm_factor = 0\n",
    "    last_inner = 0\n",
    "    is_approx = False # While loop termination condition\n",
    "\n",
    "    copy_vec = eig_vec.copy()\n",
    "    while (is_approx == False):\n",
    "        # Calculate nearest stabilizer state\n",
    "        s, s_inner_prod = one_state_stab_approx_V2(num_qubits, eig_vec, used_states)\n",
    "        #print(\"Is orthogonal?: \" + str(is_orthogonal(used_states, s)))\n",
    "        used_states.append(s)\n",
    "        #print(\"Stab: \" + str(list(s)))\n",
    "\n",
    "        # Project 'eig_vec' on s\n",
    "        s_norm = np.linalg.norm(s)\n",
    "        s_coeff = np.vdot(s, eig_vec)\n",
    "        if (norm_factor == 0):\n",
    "            proj_vec = (s_coeff/s_norm**2) * s\n",
    "        else:\n",
    "            proj_vec = norm_factor * (s_coeff/s_norm**2) * s\n",
    "\n",
    "        # Subtract projection of 'eig_vec' on s from 'eig_vec'\n",
    "        unnorm_eig_vec = eig_vec - proj_vec \n",
    "        norm_factor = np.linalg.norm(unnorm_eig_vec)\n",
    "        eig_vec = unnorm_eig_vec / norm_factor\n",
    "\n",
    "        # Add projection to approximation and update stab rank\n",
    "        approx_vec += proj_vec\n",
    "        approx_stab_rank += 1\n",
    "\n",
    "        # Check closeness of approximation to original 'eig_vec'\n",
    "\n",
    "        \"\"\" \n",
    "        if (last_inner > np.vdot(approx_vec / np.linalg.norm(approx_vec), copy_vec)):\n",
    "            approx_vec -= proj_vec\n",
    "            approx_stab_rank -= 1\n",
    "            break\n",
    "        \"\"\"\n",
    "\n",
    "        last_inner = np.vdot(approx_vec / np.linalg.norm(approx_vec), copy_vec)\n",
    "        #print(\"How close: \" + str(last_inner))\n",
    "        if (np.abs(1 - np.vdot(approx_vec / np.linalg.norm(approx_vec), copy_vec)) <= prec_param):\n",
    "            is_approx = True \n",
    "        #print(np.linalg.norm((approx_vec / np.linalg.norm(approx_vec)) - copy_vec))\n",
    "        #if (np.linalg.norm((approx_vec / np.linalg.norm(approx_vec)) - copy_vec) <= prec_param):\n",
    "        #    is_approx = True\n",
    "\n",
    "        if (approx_stab_rank == 2 ** num_qubits):\n",
    "            break\n",
    "\n",
    "        #print(\"Approx vec so far: \" + str(list(approx_vec)))\n",
    "        \n",
    "    approx_vec = approx_vec / np.linalg.norm(approx_vec)\n",
    "    \n",
    "    return approx_stab_rank, approx_vec\n"
   ]
  },
  {
   "cell_type": "code",
   "execution_count": 384,
   "metadata": {},
   "outputs": [],
   "source": [
    "num_wit_qubits = 20 # variable 'n' in paper\n",
    "# For now, what the witness qubits are initialized to be doesn't matter (I THINK)\n",
    "# as we are trying to minimize Val, given some optimal input states.\n",
    "wit_qubits = np.zeros(num_wit_qubits, dtype=complex)\n",
    "\n",
    "num_anc_qubits = 0 # variable 'm' in paper\n",
    "anc_qubits = np.zeros(num_anc_qubits, dtype=complex)\n",
    "\n",
    "num_t_gates = 3 # variable 't' in paper\n",
    "\n",
    "num_meas_qubits = 1 # variable 'k' in paper\n",
    "total_qubits = num_wit_qubits + num_anc_qubits\n",
    "\n",
    "num_layers = 40\n",
    "\n",
    "assert(num_layers > 0)"
   ]
  },
  {
   "cell_type": "code",
   "execution_count": 386,
   "metadata": {},
   "outputs": [
    {
     "name": "stdout",
     "output_type": "stream",
     "text": [
      "[(-0.7071067811865475+0j) IZYIIIIIXIZXYYYZXYIIXXXIXXZZZIXYIZZZXXZYYIIXZZXYZZXIZYXXYYZZIZYXYIZXZZYXZIZYYYYYXXZZXZYXZXXIIZYYIYZI] + [(0.4999999999999999-0j) IIIYIXZZZXZIIZIYZIIXXXXZZIZIZXZZXIYZYZIYYIIIZIYXXXZZIIIIZIIIIZZZYXXYZYYZXYZYIIXYYIXYXIIZYYXIZIZYYXYI] + [(0.3535533905932737-0j) ZZYZZYZXYYYYIYXZIZIXYYZXXXXZIXXIIIXZIYZZXIIYZZZZXXZIZIXZXXYYYIXIIZXIYYZXIXYZXYIZIIYXYIZXIIXIYYYZIIZZ] + [(-0.3535533905932737+0j) ZZYXYZZXZIZIZYYIXIYIYXYZXZXIZYZXYXYYIIXXIYXYZIIXXIYZIXIXYZXIZXIXIYZXIIYYZYYZXYIZIXIZIXXZZIXXYIXZZYIY]\n"
     ]
    }
   ],
   "source": [
    "p_sum, _ = sim_circ(total_qubits, num_layers, num_t_gates)\n",
    "succinct_p_sum = p_sum.succinct_p_sum(total_qubits)\n",
    "min_eigvec = succinct_p_sum.compute_min_eig_eigvec(len(p_sum.get_bases()))[1]\n",
    "new_total_qubits = len(succinct_p_sum.get_sum()[0].get_pauli_str(succinct_p_sum.get_sum()[0].get_pauli()))\n",
    "print(succinct_p_sum)\n",
    "print(list(min_eigvec))"
   ]
  },
  {
   "cell_type": "code",
   "execution_count": 355,
   "metadata": {},
   "outputs": [
    {
     "name": "stdout",
     "output_type": "stream",
     "text": [
      "Is orthogonal?: True\n",
      "Stab: [(1+0j), 0j]\n",
      "How close: (1+0j)\n",
      "Approx vec so far: [(1+0j), 0j]\n",
      "1 [1.+0.j 0.+0.j]\n"
     ]
    },
    {
     "name": "stderr",
     "output_type": "stream",
     "text": [
      "/var/folders/5d/012l939x26zc05mjshslzh2h0000gn/T/ipykernel_66451/2307204624.py:41: RuntimeWarning: invalid value encountered in true_divide\n",
      "  eig_vec = unnorm_eig_vec / norm_factor\n"
     ]
    }
   ],
   "source": [
    "approx_stab_rank, approx_vec = stab_rank_approx_four_V2(new_total_qubits, min_eigvec)\n",
    "print(approx_stab_rank, approx_vec)"
   ]
  },
  {
   "cell_type": "code",
   "execution_count": 383,
   "metadata": {},
   "outputs": [
    {
     "name": "stdout",
     "output_type": "stream",
     "text": [
      "0\n"
     ]
    },
    {
     "ename": "KeyboardInterrupt",
     "evalue": "",
     "output_type": "error",
     "traceback": [
      "\u001b[0;31m---------------------------------------------------------------------------\u001b[0m",
      "\u001b[0;31mKeyboardInterrupt\u001b[0m                         Traceback (most recent call last)",
      "\u001b[0;32m/var/folders/5d/012l939x26zc05mjshslzh2h0000gn/T/ipykernel_66451/4170117168.py\u001b[0m in \u001b[0;36m<module>\u001b[0;34m\u001b[0m\n\u001b[1;32m      9\u001b[0m         \u001b[0mprint\u001b[0m\u001b[0;34m(\u001b[0m\u001b[0mi\u001b[0m\u001b[0;34m)\u001b[0m\u001b[0;34m\u001b[0m\u001b[0;34m\u001b[0m\u001b[0m\n\u001b[1;32m     10\u001b[0m         \u001b[0mp_sum\u001b[0m\u001b[0;34m,\u001b[0m \u001b[0m_\u001b[0m \u001b[0;34m=\u001b[0m \u001b[0msim_circ\u001b[0m\u001b[0;34m(\u001b[0m\u001b[0mtotal_qubits\u001b[0m\u001b[0;34m,\u001b[0m \u001b[0mnum_layers\u001b[0m\u001b[0;34m,\u001b[0m \u001b[0mnum_t_gates\u001b[0m\u001b[0;34m)\u001b[0m\u001b[0;34m\u001b[0m\u001b[0;34m\u001b[0m\u001b[0m\n\u001b[0;32m---> 11\u001b[0;31m         \u001b[0msuccinct_p_sum\u001b[0m \u001b[0;34m=\u001b[0m \u001b[0mp_sum\u001b[0m\u001b[0;34m.\u001b[0m\u001b[0msuccinct_p_sum\u001b[0m\u001b[0;34m(\u001b[0m\u001b[0mtotal_qubits\u001b[0m\u001b[0;34m)\u001b[0m\u001b[0;34m\u001b[0m\u001b[0;34m\u001b[0m\u001b[0m\n\u001b[0m\u001b[1;32m     12\u001b[0m         \u001b[0mmin_eigvec\u001b[0m \u001b[0;34m=\u001b[0m \u001b[0msuccinct_p_sum\u001b[0m\u001b[0;34m.\u001b[0m\u001b[0mcompute_min_eig_eigvec\u001b[0m\u001b[0;34m(\u001b[0m\u001b[0mlen\u001b[0m\u001b[0;34m(\u001b[0m\u001b[0mp_sum\u001b[0m\u001b[0;34m.\u001b[0m\u001b[0mget_bases\u001b[0m\u001b[0;34m(\u001b[0m\u001b[0;34m)\u001b[0m\u001b[0;34m)\u001b[0m\u001b[0;34m)\u001b[0m\u001b[0;34m[\u001b[0m\u001b[0;36m1\u001b[0m\u001b[0;34m]\u001b[0m\u001b[0;34m\u001b[0m\u001b[0;34m\u001b[0m\u001b[0m\n\u001b[1;32m     13\u001b[0m         \u001b[0mnew_total_qubits\u001b[0m \u001b[0;34m=\u001b[0m \u001b[0mlen\u001b[0m\u001b[0;34m(\u001b[0m\u001b[0msuccinct_p_sum\u001b[0m\u001b[0;34m.\u001b[0m\u001b[0mget_sum\u001b[0m\u001b[0;34m(\u001b[0m\u001b[0;34m)\u001b[0m\u001b[0;34m[\u001b[0m\u001b[0;36m0\u001b[0m\u001b[0;34m]\u001b[0m\u001b[0;34m.\u001b[0m\u001b[0mget_pauli_str\u001b[0m\u001b[0;34m(\u001b[0m\u001b[0msuccinct_p_sum\u001b[0m\u001b[0;34m.\u001b[0m\u001b[0mget_sum\u001b[0m\u001b[0;34m(\u001b[0m\u001b[0;34m)\u001b[0m\u001b[0;34m[\u001b[0m\u001b[0;36m0\u001b[0m\u001b[0;34m]\u001b[0m\u001b[0;34m.\u001b[0m\u001b[0mget_pauli\u001b[0m\u001b[0;34m(\u001b[0m\u001b[0;34m)\u001b[0m\u001b[0;34m)\u001b[0m\u001b[0;34m)\u001b[0m\u001b[0;34m\u001b[0m\u001b[0;34m\u001b[0m\u001b[0m\n",
      "\u001b[0;32m~/Documents/Documents - Samyak’s MacBook Pro/Summer2022/ParamQCSATAlg/NonCliff_1Meas_V4.ipynb\u001b[0m in \u001b[0;36msuccinct_p_sum\u001b[0;34m(self, num_qubits)\u001b[0m\n\u001b[1;32m    646\u001b[0m     \u001b[0;34m\"        b = self.num_bases\\n\"\u001b[0m\u001b[0;34m,\u001b[0m\u001b[0;34m\u001b[0m\u001b[0;34m\u001b[0m\u001b[0m\n\u001b[1;32m    647\u001b[0m     \u001b[0;34m\"        #print(self.bases)\\n\"\u001b[0m\u001b[0;34m,\u001b[0m\u001b[0;34m\u001b[0m\u001b[0;34m\u001b[0m\u001b[0m\n\u001b[0;32m--> 648\u001b[0;31m     \u001b[0;34m\"        new_basis = [stim.PauliString(\\\"Z\\\" + \\\"_\\\" * (b - 1))]\\n\"\u001b[0m\u001b[0;34m,\u001b[0m\u001b[0;34m\u001b[0m\u001b[0;34m\u001b[0m\u001b[0m\n\u001b[0m\u001b[1;32m    649\u001b[0m     \u001b[0;34m\"        for i in range(1, b):\\n\"\u001b[0m\u001b[0;34m,\u001b[0m\u001b[0;34m\u001b[0m\u001b[0;34m\u001b[0m\u001b[0m\n\u001b[1;32m    650\u001b[0m     \u001b[0;34m\"            new_basis.append(self.generate_succinct_basis_term(i, b))\\n\"\u001b[0m\u001b[0;34m,\u001b[0m\u001b[0;34m\u001b[0m\u001b[0;34m\u001b[0m\u001b[0m\n",
      "\u001b[0;32m~/Documents/Documents - Samyak’s MacBook Pro/Summer2022/ParamQCSATAlg/NonCliff_1Meas_V4.ipynb\u001b[0m in \u001b[0;36mfind_summand_bases_mapping\u001b[0;34m(self)\u001b[0m\n\u001b[1;32m    605\u001b[0m     \u001b[0;34m\"            else:\\n\"\u001b[0m\u001b[0;34m,\u001b[0m\u001b[0;34m\u001b[0m\u001b[0;34m\u001b[0m\u001b[0m\n\u001b[1;32m    606\u001b[0m     \u001b[0;34m\"                X_op = [1] + X_op \\n\"\u001b[0m\u001b[0;34m,\u001b[0m\u001b[0;34m\u001b[0m\u001b[0;34m\u001b[0m\u001b[0m\n\u001b[0;32m--> 607\u001b[0;31m     \u001b[0;34m\"                Z_op = [1] + Z_op \\n\"\u001b[0m\u001b[0;34m,\u001b[0m\u001b[0;34m\u001b[0m\u001b[0;34m\u001b[0m\u001b[0m\n\u001b[0m\u001b[1;32m    608\u001b[0m     \u001b[0;34m\"            pos -= 1\\n\"\u001b[0m\u001b[0;34m,\u001b[0m\u001b[0;34m\u001b[0m\u001b[0;34m\u001b[0m\u001b[0m\n\u001b[1;32m    609\u001b[0m     \u001b[0;34m\"\\n\"\u001b[0m\u001b[0;34m,\u001b[0m\u001b[0;34m\u001b[0m\u001b[0;34m\u001b[0m\u001b[0m\n",
      "\u001b[0;32m~/opt/anaconda3/envs/topo_quant/lib/python3.9/site-packages/sympy/matrices/matrices.py\u001b[0m in \u001b[0;36mrref\u001b[0;34m(self, iszerofunc, simplify, pivots, normalize_last)\u001b[0m\n\u001b[1;32m    170\u001b[0m     def rref(self, iszerofunc=_iszero, simplify=False, pivots=True,\n\u001b[1;32m    171\u001b[0m             normalize_last=True):\n\u001b[0;32m--> 172\u001b[0;31m         return _rref(self, iszerofunc=iszerofunc, simplify=simplify,\n\u001b[0m\u001b[1;32m    173\u001b[0m             pivots=pivots, normalize_last=normalize_last)\n\u001b[1;32m    174\u001b[0m \u001b[0;34m\u001b[0m\u001b[0m\n",
      "\u001b[0;32m~/opt/anaconda3/envs/topo_quant/lib/python3.9/site-packages/sympy/matrices/reductions.py\u001b[0m in \u001b[0;36m_rref\u001b[0;34m(M, iszerofunc, simplify, pivots, normalize_last)\u001b[0m\n\u001b[1;32m    303\u001b[0m     \u001b[0msimpfunc\u001b[0m \u001b[0;34m=\u001b[0m \u001b[0msimplify\u001b[0m \u001b[0;32mif\u001b[0m \u001b[0misinstance\u001b[0m\u001b[0;34m(\u001b[0m\u001b[0msimplify\u001b[0m\u001b[0;34m,\u001b[0m \u001b[0mFunctionType\u001b[0m\u001b[0;34m)\u001b[0m \u001b[0;32melse\u001b[0m \u001b[0m_simplify\u001b[0m\u001b[0;34m\u001b[0m\u001b[0;34m\u001b[0m\u001b[0m\n\u001b[1;32m    304\u001b[0m \u001b[0;34m\u001b[0m\u001b[0m\n\u001b[0;32m--> 305\u001b[0;31m     mat, pivot_cols, _ = _row_reduce(M, iszerofunc, simpfunc,\n\u001b[0m\u001b[1;32m    306\u001b[0m             normalize_last, normalize=True, zero_above=True)\n\u001b[1;32m    307\u001b[0m \u001b[0;34m\u001b[0m\u001b[0m\n",
      "\u001b[0;32m~/opt/anaconda3/envs/topo_quant/lib/python3.9/site-packages/sympy/matrices/reductions.py\u001b[0m in \u001b[0;36m_row_reduce\u001b[0;34m(M, iszerofunc, simpfunc, normalize_last, normalize, zero_above)\u001b[0m\n\u001b[1;32m    125\u001b[0m                 normalize=True, zero_above=True):\n\u001b[1;32m    126\u001b[0m \u001b[0;34m\u001b[0m\u001b[0m\n\u001b[0;32m--> 127\u001b[0;31m     mat, pivot_cols, swaps = _row_reduce_list(list(M), M.rows, M.cols, M.one,\n\u001b[0m\u001b[1;32m    128\u001b[0m             \u001b[0miszerofunc\u001b[0m\u001b[0;34m,\u001b[0m \u001b[0msimpfunc\u001b[0m\u001b[0;34m,\u001b[0m \u001b[0mnormalize_last\u001b[0m\u001b[0;34m=\u001b[0m\u001b[0mnormalize_last\u001b[0m\u001b[0;34m,\u001b[0m\u001b[0;34m\u001b[0m\u001b[0;34m\u001b[0m\u001b[0m\n\u001b[1;32m    129\u001b[0m             normalize=normalize, zero_above=zero_above)\n",
      "\u001b[0;32m~/opt/anaconda3/envs/topo_quant/lib/python3.9/site-packages/sympy/matrices/reductions.py\u001b[0m in \u001b[0;36m_row_reduce_list\u001b[0;34m(mat, rows, cols, one, iszerofunc, simpfunc, normalize_last, normalize, zero_above)\u001b[0m\n\u001b[1;32m    107\u001b[0m                 \u001b[0;32mcontinue\u001b[0m\u001b[0;34m\u001b[0m\u001b[0;34m\u001b[0m\u001b[0m\n\u001b[1;32m    108\u001b[0m \u001b[0;34m\u001b[0m\u001b[0m\n\u001b[0;32m--> 109\u001b[0;31m             \u001b[0mcross_cancel\u001b[0m\u001b[0;34m(\u001b[0m\u001b[0mpivot_val\u001b[0m\u001b[0;34m,\u001b[0m \u001b[0mrow\u001b[0m\u001b[0;34m,\u001b[0m \u001b[0mval\u001b[0m\u001b[0;34m,\u001b[0m \u001b[0mpiv_row\u001b[0m\u001b[0;34m)\u001b[0m\u001b[0;34m\u001b[0m\u001b[0;34m\u001b[0m\u001b[0m\n\u001b[0m\u001b[1;32m    110\u001b[0m         \u001b[0mpiv_row\u001b[0m \u001b[0;34m+=\u001b[0m \u001b[0;36m1\u001b[0m\u001b[0;34m\u001b[0m\u001b[0;34m\u001b[0m\u001b[0m\n\u001b[1;32m    111\u001b[0m \u001b[0;34m\u001b[0m\u001b[0m\n",
      "\u001b[0;32m~/opt/anaconda3/envs/topo_quant/lib/python3.9/site-packages/sympy/matrices/reductions.py\u001b[0m in \u001b[0;36mcross_cancel\u001b[0;34m(a, i, b, j)\u001b[0m\n\u001b[1;32m     56\u001b[0m         \u001b[0mq\u001b[0m \u001b[0;34m=\u001b[0m \u001b[0;34m(\u001b[0m\u001b[0mj\u001b[0m \u001b[0;34m-\u001b[0m \u001b[0mi\u001b[0m\u001b[0;34m)\u001b[0m\u001b[0;34m*\u001b[0m\u001b[0mcols\u001b[0m\u001b[0;34m\u001b[0m\u001b[0;34m\u001b[0m\u001b[0m\n\u001b[1;32m     57\u001b[0m         \u001b[0;32mfor\u001b[0m \u001b[0mp\u001b[0m \u001b[0;32min\u001b[0m \u001b[0mrange\u001b[0m\u001b[0;34m(\u001b[0m\u001b[0mi\u001b[0m\u001b[0;34m*\u001b[0m\u001b[0mcols\u001b[0m\u001b[0;34m,\u001b[0m \u001b[0;34m(\u001b[0m\u001b[0mi\u001b[0m \u001b[0;34m+\u001b[0m \u001b[0;36m1\u001b[0m\u001b[0;34m)\u001b[0m\u001b[0;34m*\u001b[0m\u001b[0mcols\u001b[0m\u001b[0;34m)\u001b[0m\u001b[0;34m:\u001b[0m\u001b[0;34m\u001b[0m\u001b[0;34m\u001b[0m\u001b[0m\n\u001b[0;32m---> 58\u001b[0;31m             \u001b[0mmat\u001b[0m\u001b[0;34m[\u001b[0m\u001b[0mp\u001b[0m\u001b[0;34m]\u001b[0m \u001b[0;34m=\u001b[0m \u001b[0misimp\u001b[0m\u001b[0;34m(\u001b[0m\u001b[0ma\u001b[0m\u001b[0;34m*\u001b[0m\u001b[0mmat\u001b[0m\u001b[0;34m[\u001b[0m\u001b[0mp\u001b[0m\u001b[0;34m]\u001b[0m \u001b[0;34m-\u001b[0m \u001b[0mb\u001b[0m\u001b[0;34m*\u001b[0m\u001b[0mmat\u001b[0m\u001b[0;34m[\u001b[0m\u001b[0mp\u001b[0m \u001b[0;34m+\u001b[0m \u001b[0mq\u001b[0m\u001b[0;34m]\u001b[0m\u001b[0;34m)\u001b[0m\u001b[0;34m\u001b[0m\u001b[0;34m\u001b[0m\u001b[0m\n\u001b[0m\u001b[1;32m     59\u001b[0m \u001b[0;34m\u001b[0m\u001b[0m\n\u001b[1;32m     60\u001b[0m     \u001b[0misimp\u001b[0m \u001b[0;34m=\u001b[0m \u001b[0m_get_intermediate_simp\u001b[0m\u001b[0;34m(\u001b[0m\u001b[0m_dotprodsimp\u001b[0m\u001b[0;34m)\u001b[0m\u001b[0;34m\u001b[0m\u001b[0;34m\u001b[0m\u001b[0m\n",
      "\u001b[0;32m~/opt/anaconda3/envs/topo_quant/lib/python3.9/site-packages/sympy/core/numbers.py\u001b[0m in \u001b[0;36m__mul__\u001b[0;34m(self, other)\u001b[0m\n\u001b[1;32m   2213\u001b[0m                 \u001b[0;32mreturn\u001b[0m \u001b[0mInteger\u001b[0m\u001b[0;34m(\u001b[0m\u001b[0mself\u001b[0m\u001b[0;34m.\u001b[0m\u001b[0mp\u001b[0m\u001b[0;34m*\u001b[0m\u001b[0mother\u001b[0m\u001b[0;34m)\u001b[0m\u001b[0;34m\u001b[0m\u001b[0;34m\u001b[0m\u001b[0m\n\u001b[1;32m   2214\u001b[0m             \u001b[0;32melif\u001b[0m \u001b[0misinstance\u001b[0m\u001b[0;34m(\u001b[0m\u001b[0mother\u001b[0m\u001b[0;34m,\u001b[0m \u001b[0mInteger\u001b[0m\u001b[0;34m)\u001b[0m\u001b[0;34m:\u001b[0m\u001b[0;34m\u001b[0m\u001b[0;34m\u001b[0m\u001b[0m\n\u001b[0;32m-> 2215\u001b[0;31m                 \u001b[0;32mreturn\u001b[0m \u001b[0mInteger\u001b[0m\u001b[0;34m(\u001b[0m\u001b[0mself\u001b[0m\u001b[0;34m.\u001b[0m\u001b[0mp\u001b[0m\u001b[0;34m*\u001b[0m\u001b[0mother\u001b[0m\u001b[0;34m.\u001b[0m\u001b[0mp\u001b[0m\u001b[0;34m)\u001b[0m\u001b[0;34m\u001b[0m\u001b[0;34m\u001b[0m\u001b[0m\n\u001b[0m\u001b[1;32m   2216\u001b[0m             \u001b[0;32melif\u001b[0m \u001b[0misinstance\u001b[0m\u001b[0;34m(\u001b[0m\u001b[0mother\u001b[0m\u001b[0;34m,\u001b[0m \u001b[0mRational\u001b[0m\u001b[0;34m)\u001b[0m\u001b[0;34m:\u001b[0m\u001b[0;34m\u001b[0m\u001b[0;34m\u001b[0m\u001b[0m\n\u001b[1;32m   2217\u001b[0m                 \u001b[0;32mreturn\u001b[0m \u001b[0mRational\u001b[0m\u001b[0;34m(\u001b[0m\u001b[0mself\u001b[0m\u001b[0;34m.\u001b[0m\u001b[0mp\u001b[0m\u001b[0;34m*\u001b[0m\u001b[0mother\u001b[0m\u001b[0;34m.\u001b[0m\u001b[0mp\u001b[0m\u001b[0;34m,\u001b[0m \u001b[0mother\u001b[0m\u001b[0;34m.\u001b[0m\u001b[0mq\u001b[0m\u001b[0;34m,\u001b[0m \u001b[0migcd\u001b[0m\u001b[0;34m(\u001b[0m\u001b[0mself\u001b[0m\u001b[0;34m.\u001b[0m\u001b[0mp\u001b[0m\u001b[0;34m,\u001b[0m \u001b[0mother\u001b[0m\u001b[0;34m.\u001b[0m\u001b[0mq\u001b[0m\u001b[0;34m)\u001b[0m\u001b[0;34m)\u001b[0m\u001b[0;34m\u001b[0m\u001b[0;34m\u001b[0m\u001b[0m\n",
      "\u001b[0;31mKeyboardInterrupt\u001b[0m: "
     ]
    }
   ],
   "source": [
    "num_iter = 50\n",
    "stab_rank_avg = 0\n",
    "num_t_gates = 6\n",
    "t_gate_cap = 11\n",
    "stab_rank_list = []\n",
    "for _ in range(t_gate_cap):\n",
    "    stab_rank_avg = 0\n",
    "    for i in range(num_iter):\n",
    "        print(i)\n",
    "        p_sum, _ = sim_circ(total_qubits, num_layers, num_t_gates)\n",
    "        succinct_p_sum = p_sum.succinct_p_sum(total_qubits)\n",
    "        min_eigvec = succinct_p_sum.compute_min_eig_eigvec(len(p_sum.get_bases()))[1]\n",
    "        new_total_qubits = len(succinct_p_sum.get_sum()[0].get_pauli_str(succinct_p_sum.get_sum()[0].get_pauli()))\n",
    "        approx_stab_rank, _ = stab_rank_approx_four_V2(new_total_qubits, min_eigvec)\n",
    "        stab_rank_avg += approx_stab_rank\n",
    "    stab_rank_avg = stab_rank_avg / num_iter\n",
    "    print(stab_rank_avg)\n",
    "    stab_rank_list.append((num_t_gates, stab_rank_avg))\n",
    "    num_t_gates += 1"
   ]
  },
  {
   "cell_type": "code",
   "execution_count": 376,
   "metadata": {},
   "outputs": [
    {
     "name": "stdout",
     "output_type": "stream",
     "text": [
      "[(0, 1.0), (1, 1.53), (2, 2.66), (3, 5.07), (4, 10.87)]\n"
     ]
    }
   ],
   "source": [
    "print(stab_rank_list)"
   ]
  },
  {
   "cell_type": "code",
   "execution_count": 382,
   "metadata": {},
   "outputs": [
    {
     "data": {
      "image/png": "[encoded data removed]",
      "text/plain": [
       "<Figure size 432x288 with 1 Axes>"
      ]
     },
     "metadata": {
      "needs_background": "light"
     },
     "output_type": "display_data"
    }
   ],
   "source": [
    "%matplotlib inline \n",
    "import matplotlib.pyplot as plt\n",
    "x = [s[0] for s in stab_rank_list]\n",
    "y = [s[1] for s in stab_rank_list]\n",
    "plt.xticks(x)\n",
    "plt.plot(x,y)\n",
    "plt.show()"
   ]
  },
  {
   "cell_type": "code",
   "execution_count": null,
   "metadata": {},
   "outputs": [],
   "source": []
  }
 ],
 "metadata": {
  "kernelspec": {
   "display_name": "Python 3.9.7 ('topo_quant')",
   "language": "python",
   "name": "python3"
  },
  "language_info": {
   "codemirror_mode": {
    "name": "ipython",
    "version": 3
   },
   "file_extension": ".py",
   "mimetype": "text/x-python",
   "name": "python",
   "nbconvert_exporter": "python",
   "pygments_lexer": "ipython3",
   "version": "3.9.7"
  },
  "orig_nbformat": 4,
  "vscode": {
   "interpreter": {
    "hash": "d4046caf55f50b54fa7ffdea1ad98452a8feb9cf62ccba5e4c76fe622e38f8fa"
   }
  }
 },
 "nbformat": 4,
 "nbformat_minor": 2
}
