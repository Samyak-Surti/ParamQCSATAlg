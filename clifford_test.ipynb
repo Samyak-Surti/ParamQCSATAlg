{
 "cells": [
  {
   "cell_type": "code",
   "execution_count": 4,
   "metadata": {},
   "outputs": [],
   "source": [
    "import tensornetwork as tn \n",
    "import numpy as np"
   ]
  },
  {
   "cell_type": "code",
   "execution_count": 10,
   "metadata": {},
   "outputs": [],
   "source": [
    "def apply_gate(qubit_edges, gate, operating_qubits):\n",
    "  op = tn.Node(gate)\n",
    "  for i, bit in enumerate(operating_qubits):\n",
    "    tn.connect(qubit_edges[bit], op[i])\n",
    "    qubit_edges[bit] = op[i + len(operating_qubits)]"
   ]
  },
  {
   "cell_type": "markdown",
   "metadata": {},
   "source": [
    "$\\bra{0^m}U^{\\dag}ZU\\ket{0^m}$"
   ]
  },
  {
   "cell_type": "code",
   "execution_count": 9,
   "metadata": {},
   "outputs": [
    {
     "name": "stdout",
     "output_type": "stream",
     "text": [
      "[[-2.23711432e-17+0.j  0.00000000e+00+0.j]\n",
      " [ 1.00000000e+00+0.j  0.00000000e+00+0.j]]\n"
     ]
    }
   ],
   "source": [
    "H = np.array([[1, 1], [1, -1]], dtype=complex) / np.sqrt(2)\n",
    "Z = np.array([[1, 0], [0, -1]], dtype=complex)\n",
    "CNOT = np.zeros((2, 2, 2, 2), dtype=complex)\n",
    "CNOT[0][0][0][0] = 1\n",
    "CNOT[0][1][0][1] = 1\n",
    "CNOT[1][0][1][1] = 1\n",
    "CNOT[1][1][1][0] = 1\n",
    "all_nodes = []\n",
    "with tn.NodeCollection(all_nodes):\n",
    "    state_nodes = [\n",
    "        tn.Node(np.array([1.0 + 0.0j, 0.0 + 0.0j],)) for _ in range(2)\n",
    "    ]\n",
    "    qubits = [node[0] for node in state_nodes]\n",
    "    apply_gate(qubits, H, [0])\n",
    "    apply_gate(qubits, CNOT, [0, 1])\n",
    "    apply_gate(qubits, Z, [0])\n",
    "    apply_gate(qubits, CNOT, [0, 1])\n",
    "    apply_gate(qubits, H, [0])\n",
    "\n",
    "# Contraction of tensor network\n",
    "result = tn.contractors.optimal(\n",
    "    all_nodes, output_edge_order=qubits)\n",
    "print(result.tensor)"
   ]
  },
  {
   "cell_type": "markdown",
   "metadata": {},
   "source": [
    "$U^\\dag Z U$"
   ]
  },
  {
   "cell_type": "code",
   "execution_count": null,
   "metadata": {},
   "outputs": [],
   "source": []
  }
 ],
 "metadata": {
  "interpreter": {
   "hash": "d4046caf55f50b54fa7ffdea1ad98452a8feb9cf62ccba5e4c76fe622e38f8fa"
  },
  "kernelspec": {
   "display_name": "Python 3.9.7 ('topo_quant')",
   "language": "python",
   "name": "python3"
  },
  "language_info": {
   "codemirror_mode": {
    "name": "ipython",
    "version": 3
   },
   "file_extension": ".py",
   "mimetype": "text/x-python",
   "name": "python",
   "nbconvert_exporter": "python",
   "pygments_lexer": "ipython3",
   "version": "3.9.7"
  },
  "orig_nbformat": 4
 },
 "nbformat": 4,
 "nbformat_minor": 2
}
