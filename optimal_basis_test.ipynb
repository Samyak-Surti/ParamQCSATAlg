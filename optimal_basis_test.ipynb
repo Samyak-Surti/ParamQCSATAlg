{
 "cells": [
  {
   "cell_type": "markdown",
   "metadata": {},
   "source": [
    "### Finding Basis Pauli Matrices\n",
    "* If our QCSAT-instance $U$ has $t$ T-gates, then we can express $U^{\\dag}ZU$ as a sum of at most $2^t$ Pauli operators.\n",
    "* Each of the Pauli operators in this sum can be expressed as a product of at most $b <= t + 1$ Pauli operators.\n",
    "* Goal: Calclulate this basis provided explicit sum of Pauli operators.\n"
   ]
  },
  {
   "cell_type": "code",
   "execution_count": null,
   "metadata": {},
   "outputs": [],
   "source": []
  }
 ],
 "metadata": {
  "language_info": {
   "name": "python"
  },
  "orig_nbformat": 4
 },
 "nbformat": 4,
 "nbformat_minor": 2
}
